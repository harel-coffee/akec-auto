{
 "cells": [
  {
   "cell_type": "code",
   "execution_count": 1,
   "metadata": {},
   "outputs": [],
   "source": [
    "import pandas as pd\n",
    "import re"
   ]
  },
  {
   "cell_type": "code",
   "execution_count": 2,
   "metadata": {},
   "outputs": [],
   "source": [
    "# load dataset\n",
    "from sample import read_csv_data\n",
    "data = read_csv_data(pd.read_csv('../dataset/ieee_xai.csv'))\n",
    "\n",
    "# load domain terms\n",
    "with open('../dataset/domain_terms.txt','r', encoding = 'utf-8') as f:\n",
    "    domain_list = [i.strip().lower() for i in f.readlines()]"
   ]
  },
  {
   "cell_type": "markdown",
   "metadata": {},
   "source": [
    "# Unsupervised Keyphrase Extraction"
   ]
  },
  {
   "cell_type": "code",
   "execution_count": 3,
   "metadata": {},
   "outputs": [
    {
     "name": "stdout",
     "output_type": "stream",
     "text": [
      "Loaded 516783 word vectors.\n",
      "Wall time: 2min 8s\n"
     ]
    }
   ],
   "source": [
    "%%time\n",
    "from kprank import *\n",
    "from evaluation import *"
   ]
  },
  {
   "cell_type": "code",
   "execution_count": 4,
   "metadata": {},
   "outputs": [],
   "source": [
    "# Extract acronym\n",
    "abrv_kp, abrv_corpus = get_abrv(data['title+abs'])"
   ]
  },
  {
   "cell_type": "code",
   "execution_count": 5,
   "metadata": {},
   "outputs": [
    {
     "name": "stdout",
     "output_type": "stream",
     "text": [
      "Getting n-grams ...\n"
     ]
    },
    {
     "name": "stderr",
     "output_type": "stream",
     "text": [
      "100%|██████████████████████████████████████████████████████████████████████████| 9939/9939 [00:00<00:00, 231167.83it/s]\n",
      "  0%|                                                                                         | 0/7563 [00:00<?, ?it/s]"
     ]
    },
    {
     "name": "stdout",
     "output_type": "stream",
     "text": [
      "9939\n",
      "\n",
      "Calculating PMI ...\n",
      "7563\n",
      "\n",
      "Calculating entropy ...\n"
     ]
    },
    {
     "name": "stderr",
     "output_type": "stream",
     "text": [
      "100%|██████████████████████████████████████████████████████████████████████████████| 7563/7563 [01:19<00:00, 94.96it/s]\n"
     ]
    },
    {
     "name": "stdout",
     "output_type": "stream",
     "text": [
      "Calulating document relevance score...\n",
      "rank_method: sifrank\n",
      "embed_method: conceptnet\n"
     ]
    },
    {
     "name": "stderr",
     "output_type": "stream",
     "text": [
      "100%|████████████████████████████████████████████████████████████████████████████████| 286/286 [00:28<00:00, 10.18it/s]\n"
     ]
    },
    {
     "name": "stdout",
     "output_type": "stream",
     "text": [
      "Adding title weights...\n"
     ]
    },
    {
     "name": "stderr",
     "output_type": "stream",
     "text": [
      "  0%|                                                                                 | 4/6352 [00:00<03:50, 27.55it/s]"
     ]
    },
    {
     "name": "stdout",
     "output_type": "stream",
     "text": [
      "Calulating domain relevance score...\n"
     ]
    },
    {
     "name": "stderr",
     "output_type": "stream",
     "text": [
      "100%|██████████████████████████████████████████████████████████████████████████████| 6352/6352 [05:21<00:00, 19.74it/s]\n"
     ]
    },
    {
     "name": "stdout",
     "output_type": "stream",
     "text": [
      "Calulating domain score...\n",
      "Calulating phrase qualiy score...\n",
      "Calulating weighted ranking score...\n",
      "Time: 470.9688365459442\n",
      "Wall time: 7min 51s\n"
     ]
    }
   ],
   "source": [
    "%%time\n",
    "# ConceptNet\n",
    "con_final = rank(data, domain_list, pmi_en = None, \\\n",
    "         domain_w=0.1, quality_w=0.1, alpha = 1, beta = 0.5, \\\n",
    "         rank_method = 'sifrank', embed_method='conceptnet')"
   ]
  },
  {
   "cell_type": "code",
   "execution_count": 6,
   "metadata": {},
   "outputs": [
    {
     "data": {
      "text/html": [
       "<div>\n",
       "<style scoped>\n",
       "    .dataframe tbody tr th:only-of-type {\n",
       "        vertical-align: middle;\n",
       "    }\n",
       "\n",
       "    .dataframe tbody tr th {\n",
       "        vertical-align: top;\n",
       "    }\n",
       "\n",
       "    .dataframe thead th {\n",
       "        text-align: right;\n",
       "    }\n",
       "</style>\n",
       "<table border=\"1\" class=\"dataframe\">\n",
       "  <thead>\n",
       "    <tr style=\"text-align: right;\">\n",
       "      <th></th>\n",
       "      <th>0</th>\n",
       "      <th>1</th>\n",
       "      <th>2</th>\n",
       "    </tr>\n",
       "  </thead>\n",
       "  <tbody>\n",
       "    <tr>\n",
       "      <th>top5</th>\n",
       "      <td>0.549650</td>\n",
       "      <td>0.245625</td>\n",
       "      <td>0.339525</td>\n",
       "    </tr>\n",
       "    <tr>\n",
       "      <th>top10</th>\n",
       "      <td>0.478489</td>\n",
       "      <td>0.427500</td>\n",
       "      <td>0.451560</td>\n",
       "    </tr>\n",
       "    <tr>\n",
       "      <th>top15</th>\n",
       "      <td>0.412137</td>\n",
       "      <td>0.549687</td>\n",
       "      <td>0.471077</td>\n",
       "    </tr>\n",
       "    <tr>\n",
       "      <th>top20</th>\n",
       "      <td>0.354804</td>\n",
       "      <td>0.626563</td>\n",
       "      <td>0.453056</td>\n",
       "    </tr>\n",
       "  </tbody>\n",
       "</table>\n",
       "</div>"
      ],
      "text/plain": [
       "              0         1         2\n",
       "top5   0.549650  0.245625  0.339525\n",
       "top10  0.478489  0.427500  0.451560\n",
       "top15  0.412137  0.549687  0.471077\n",
       "top20  0.354804  0.626563  0.453056"
      ]
     },
     "execution_count": 6,
     "metadata": {},
     "output_type": "execute_result"
    }
   ],
   "source": [
    "pd.DataFrame(evaluate(get_ranked_kplist(con_final), data)).T"
   ]
  },
  {
   "cell_type": "code",
   "execution_count": 7,
   "metadata": {},
   "outputs": [
    {
     "name": "stdout",
     "output_type": "stream",
     "text": [
      "Getting n-grams ...\n"
     ]
    },
    {
     "name": "stderr",
     "output_type": "stream",
     "text": [
      "100%|██████████████████████████████████████████████████████████████████████████| 9939/9939 [00:00<00:00, 152451.82it/s]\n",
      "  0%|▏                                                                              | 14/7563 [00:00<00:55, 137.17it/s]"
     ]
    },
    {
     "name": "stdout",
     "output_type": "stream",
     "text": [
      "9939\n",
      "\n",
      "Calculating PMI ...\n",
      "7563\n",
      "\n",
      "Calculating entropy ...\n"
     ]
    },
    {
     "name": "stderr",
     "output_type": "stream",
     "text": [
      "100%|██████████████████████████████████████████████████████████████████████████████| 7563/7563 [01:24<00:00, 89.51it/s]\n"
     ]
    },
    {
     "name": "stdout",
     "output_type": "stream",
     "text": [
      "Calulating document relevance score...\n",
      "rank_method: sifrank\n",
      "embed_method: elmo\n"
     ]
    },
    {
     "name": "stderr",
     "output_type": "stream",
     "text": [
      "100%|████████████████████████████████████████████████████████████████████████████████| 286/286 [19:33<00:00,  4.10s/it]\n"
     ]
    },
    {
     "name": "stdout",
     "output_type": "stream",
     "text": [
      "Adding title weights...\n",
      "Calulating domain relevance score...\n"
     ]
    },
    {
     "name": "stderr",
     "output_type": "stream",
     "text": [
      "100%|████████████████████████████████████████████████████████████████████████████| 6352/6352 [00:01<00:00, 4512.75it/s]\n"
     ]
    },
    {
     "name": "stdout",
     "output_type": "stream",
     "text": [
      "Calulating domain score...\n",
      "Calulating phrase qualiy score...\n",
      "Calulating weighted ranking score...\n",
      "Time: 1391.7161784172058\n",
      "Wall time: 23min 11s\n"
     ]
    }
   ],
   "source": [
    "%%time\n",
    "# ELMo\n",
    "elmo_final = rank(data, domain_list, pmi_en = None, \\\n",
    "         domain_w=0.1, quality_w=0.1, alpha = 1, beta = 0.5, \\\n",
    "         rank_method = 'sifrank', embed_method='elmo')"
   ]
  },
  {
   "cell_type": "code",
   "execution_count": 8,
   "metadata": {
    "scrolled": true
   },
   "outputs": [
    {
     "data": {
      "text/html": [
       "<div>\n",
       "<style scoped>\n",
       "    .dataframe tbody tr th:only-of-type {\n",
       "        vertical-align: middle;\n",
       "    }\n",
       "\n",
       "    .dataframe tbody tr th {\n",
       "        vertical-align: top;\n",
       "    }\n",
       "\n",
       "    .dataframe thead th {\n",
       "        text-align: right;\n",
       "    }\n",
       "</style>\n",
       "<table border=\"1\" class=\"dataframe\">\n",
       "  <thead>\n",
       "    <tr style=\"text-align: right;\">\n",
       "      <th></th>\n",
       "      <th>0</th>\n",
       "      <th>1</th>\n",
       "      <th>2</th>\n",
       "    </tr>\n",
       "  </thead>\n",
       "  <tbody>\n",
       "    <tr>\n",
       "      <th>top5</th>\n",
       "      <td>0.546853</td>\n",
       "      <td>0.244375</td>\n",
       "      <td>0.337797</td>\n",
       "    </tr>\n",
       "    <tr>\n",
       "      <th>top10</th>\n",
       "      <td>0.474641</td>\n",
       "      <td>0.424063</td>\n",
       "      <td>0.447929</td>\n",
       "    </tr>\n",
       "    <tr>\n",
       "      <th>top15</th>\n",
       "      <td>0.415183</td>\n",
       "      <td>0.553750</td>\n",
       "      <td>0.474558</td>\n",
       "    </tr>\n",
       "    <tr>\n",
       "      <th>top20</th>\n",
       "      <td>0.357636</td>\n",
       "      <td>0.631563</td>\n",
       "      <td>0.456672</td>\n",
       "    </tr>\n",
       "  </tbody>\n",
       "</table>\n",
       "</div>"
      ],
      "text/plain": [
       "              0         1         2\n",
       "top5   0.546853  0.244375  0.337797\n",
       "top10  0.474641  0.424063  0.447929\n",
       "top15  0.415183  0.553750  0.474558\n",
       "top20  0.357636  0.631563  0.456672"
      ]
     },
     "execution_count": 8,
     "metadata": {},
     "output_type": "execute_result"
    }
   ],
   "source": [
    "pd.DataFrame(evaluate(get_ranked_kplist(elmo_final), data)).T"
   ]
  },
  {
   "cell_type": "code",
   "execution_count": 9,
   "metadata": {},
   "outputs": [
    {
     "name": "stdout",
     "output_type": "stream",
     "text": [
      "Getting n-grams ...\n"
     ]
    },
    {
     "name": "stderr",
     "output_type": "stream",
     "text": [
      "100%|██████████████████████████████████████████████████████████████████████████| 9939/9939 [00:00<00:00, 331318.75it/s]\n",
      "  0%|▏                                                                              | 17/7563 [00:00<00:44, 168.32it/s]"
     ]
    },
    {
     "name": "stdout",
     "output_type": "stream",
     "text": [
      "9939\n",
      "\n",
      "Calculating PMI ...\n",
      "7563\n",
      "\n",
      "Calculating entropy ...\n"
     ]
    },
    {
     "name": "stderr",
     "output_type": "stream",
     "text": [
      "100%|█████████████████████████████████████████████████████████████████████████████| 7563/7563 [00:50<00:00, 148.34it/s]\n"
     ]
    },
    {
     "name": "stdout",
     "output_type": "stream",
     "text": [
      "Calulating document relevance score...\n",
      "rank_method: textrank\n",
      "embed_method: conceptnet\n"
     ]
    },
    {
     "name": "stderr",
     "output_type": "stream",
     "text": [
      "100%|████████████████████████████████████████████████████████████████████████████████| 286/286 [02:38<00:00,  1.80it/s]\n"
     ]
    },
    {
     "name": "stdout",
     "output_type": "stream",
     "text": [
      "Adding title weights...\n"
     ]
    },
    {
     "name": "stderr",
     "output_type": "stream",
     "text": [
      "  0%|                                                                                 | 4/3744 [00:00<01:48, 34.48it/s]"
     ]
    },
    {
     "name": "stdout",
     "output_type": "stream",
     "text": [
      "Calulating domain relevance score...\n"
     ]
    },
    {
     "name": "stderr",
     "output_type": "stream",
     "text": [
      "100%|██████████████████████████████████████████████████████████████████████████████| 3744/3744 [01:22<00:00, 45.37it/s]\n"
     ]
    },
    {
     "name": "stdout",
     "output_type": "stream",
     "text": [
      "Calulating domain score...\n",
      "Calulating phrase qualiy score...\n",
      "Calulating weighted ranking score...\n",
      "Time: 310.8643720149994\n",
      "Wall time: 5min 10s\n"
     ]
    }
   ],
   "source": [
    "%%time\n",
    "# ELMo\n",
    "tr_final = rank(data, domain_list, pmi_en = None, \\\n",
    "         domain_w=0.1, quality_w=0.1, alpha = 1, beta = 0.5, \\\n",
    "         rank_method = 'textrank', embed_method='conceptnet')"
   ]
  },
  {
   "cell_type": "code",
   "execution_count": 10,
   "metadata": {},
   "outputs": [
    {
     "data": {
      "text/html": [
       "<div>\n",
       "<style scoped>\n",
       "    .dataframe tbody tr th:only-of-type {\n",
       "        vertical-align: middle;\n",
       "    }\n",
       "\n",
       "    .dataframe tbody tr th {\n",
       "        vertical-align: top;\n",
       "    }\n",
       "\n",
       "    .dataframe thead th {\n",
       "        text-align: right;\n",
       "    }\n",
       "</style>\n",
       "<table border=\"1\" class=\"dataframe\">\n",
       "  <thead>\n",
       "    <tr style=\"text-align: right;\">\n",
       "      <th></th>\n",
       "      <th>0</th>\n",
       "      <th>1</th>\n",
       "      <th>2</th>\n",
       "    </tr>\n",
       "  </thead>\n",
       "  <tbody>\n",
       "    <tr>\n",
       "      <th>top5</th>\n",
       "      <td>0.518881</td>\n",
       "      <td>0.231875</td>\n",
       "      <td>0.320518</td>\n",
       "    </tr>\n",
       "    <tr>\n",
       "      <th>top10</th>\n",
       "      <td>0.462399</td>\n",
       "      <td>0.413125</td>\n",
       "      <td>0.436376</td>\n",
       "    </tr>\n",
       "    <tr>\n",
       "      <th>top15</th>\n",
       "      <td>0.379093</td>\n",
       "      <td>0.506563</td>\n",
       "      <td>0.433654</td>\n",
       "    </tr>\n",
       "    <tr>\n",
       "      <th>top20</th>\n",
       "      <td>0.379093</td>\n",
       "      <td>0.506563</td>\n",
       "      <td>0.433654</td>\n",
       "    </tr>\n",
       "  </tbody>\n",
       "</table>\n",
       "</div>"
      ],
      "text/plain": [
       "              0         1         2\n",
       "top5   0.518881  0.231875  0.320518\n",
       "top10  0.462399  0.413125  0.436376\n",
       "top15  0.379093  0.506563  0.433654\n",
       "top20  0.379093  0.506563  0.433654"
      ]
     },
     "execution_count": 10,
     "metadata": {},
     "output_type": "execute_result"
    }
   ],
   "source": [
    "pd.DataFrame(evaluate(get_ranked_kplist(tr_final), data)).T"
   ]
  },
  {
   "cell_type": "markdown",
   "metadata": {},
   "source": [
    "## BASE model"
   ]
  },
  {
   "cell_type": "code",
   "execution_count": 11,
   "metadata": {},
   "outputs": [
    {
     "name": "stderr",
     "output_type": "stream",
     "text": [
      "100%|████████████████████████████████████████████████████████████████████████████████| 286/286 [00:10<00:00, 28.14it/s]\n"
     ]
    },
    {
     "name": "stdout",
     "output_type": "stream",
     "text": [
      "Wall time: 11.2 s\n"
     ]
    },
    {
     "data": {
      "text/html": [
       "<div>\n",
       "<style scoped>\n",
       "    .dataframe tbody tr th:only-of-type {\n",
       "        vertical-align: middle;\n",
       "    }\n",
       "\n",
       "    .dataframe tbody tr th {\n",
       "        vertical-align: top;\n",
       "    }\n",
       "\n",
       "    .dataframe thead th {\n",
       "        text-align: right;\n",
       "    }\n",
       "</style>\n",
       "<table border=\"1\" class=\"dataframe\">\n",
       "  <thead>\n",
       "    <tr style=\"text-align: right;\">\n",
       "      <th></th>\n",
       "      <th>0</th>\n",
       "      <th>1</th>\n",
       "      <th>2</th>\n",
       "    </tr>\n",
       "  </thead>\n",
       "  <tbody>\n",
       "    <tr>\n",
       "      <th>top5</th>\n",
       "      <td>0.504196</td>\n",
       "      <td>0.225312</td>\n",
       "      <td>0.311447</td>\n",
       "    </tr>\n",
       "    <tr>\n",
       "      <th>top10</th>\n",
       "      <td>0.425673</td>\n",
       "      <td>0.380312</td>\n",
       "      <td>0.401716</td>\n",
       "    </tr>\n",
       "    <tr>\n",
       "      <th>top15</th>\n",
       "      <td>0.367854</td>\n",
       "      <td>0.490625</td>\n",
       "      <td>0.420461</td>\n",
       "    </tr>\n",
       "    <tr>\n",
       "      <th>top20</th>\n",
       "      <td>0.324898</td>\n",
       "      <td>0.573750</td>\n",
       "      <td>0.414868</td>\n",
       "    </tr>\n",
       "  </tbody>\n",
       "</table>\n",
       "</div>"
      ],
      "text/plain": [
       "              0         1         2\n",
       "top5   0.504196  0.225312  0.311447\n",
       "top10  0.425673  0.380312  0.401716\n",
       "top15  0.367854  0.490625  0.420461\n",
       "top20  0.324898  0.573750  0.414868"
      ]
     },
     "execution_count": 11,
     "metadata": {},
     "output_type": "execute_result"
    }
   ],
   "source": [
    "%%time\n",
    "# conceptnet base\n",
    "con_base, _ = SIFRank_score(data['title+abs'], embed_method='conceptnet')\n",
    "pd.DataFrame(evaluate(get_ranked_kplist(con_base), data)).T"
   ]
  },
  {
   "cell_type": "code",
   "execution_count": 12,
   "metadata": {},
   "outputs": [
    {
     "name": "stderr",
     "output_type": "stream",
     "text": [
      "100%|████████████████████████████████████████████████████████████████████████████████| 286/286 [02:33<00:00,  1.87it/s]\n"
     ]
    },
    {
     "name": "stdout",
     "output_type": "stream",
     "text": [
      "Wall time: 2min 33s\n"
     ]
    },
    {
     "data": {
      "text/html": [
       "<div>\n",
       "<style scoped>\n",
       "    .dataframe tbody tr th:only-of-type {\n",
       "        vertical-align: middle;\n",
       "    }\n",
       "\n",
       "    .dataframe tbody tr th {\n",
       "        vertical-align: top;\n",
       "    }\n",
       "\n",
       "    .dataframe thead th {\n",
       "        text-align: right;\n",
       "    }\n",
       "</style>\n",
       "<table border=\"1\" class=\"dataframe\">\n",
       "  <thead>\n",
       "    <tr style=\"text-align: right;\">\n",
       "      <th></th>\n",
       "      <th>0</th>\n",
       "      <th>1</th>\n",
       "      <th>2</th>\n",
       "    </tr>\n",
       "  </thead>\n",
       "  <tbody>\n",
       "    <tr>\n",
       "      <th>top5</th>\n",
       "      <td>0.498601</td>\n",
       "      <td>0.222812</td>\n",
       "      <td>0.307991</td>\n",
       "    </tr>\n",
       "    <tr>\n",
       "      <th>top10</th>\n",
       "      <td>0.440014</td>\n",
       "      <td>0.393125</td>\n",
       "      <td>0.415250</td>\n",
       "    </tr>\n",
       "    <tr>\n",
       "      <th>top15</th>\n",
       "      <td>0.379093</td>\n",
       "      <td>0.506563</td>\n",
       "      <td>0.433654</td>\n",
       "    </tr>\n",
       "    <tr>\n",
       "      <th>top20</th>\n",
       "      <td>0.379093</td>\n",
       "      <td>0.506563</td>\n",
       "      <td>0.433654</td>\n",
       "    </tr>\n",
       "  </tbody>\n",
       "</table>\n",
       "</div>"
      ],
      "text/plain": [
       "              0         1         2\n",
       "top5   0.498601  0.222812  0.307991\n",
       "top10  0.440014  0.393125  0.415250\n",
       "top15  0.379093  0.506563  0.433654\n",
       "top20  0.379093  0.506563  0.433654"
      ]
     },
     "execution_count": 12,
     "metadata": {},
     "output_type": "execute_result"
    }
   ],
   "source": [
    "%%time\n",
    "# textrank base\n",
    "tr_base = textrank_score(data['title+abs'])\n",
    "pd.DataFrame(evaluate(get_ranked_kplist(tr_base), data)).T"
   ]
  },
  {
   "cell_type": "code",
   "execution_count": 13,
   "metadata": {},
   "outputs": [
    {
     "name": "stderr",
     "output_type": "stream",
     "text": [
      "100%|████████████████████████████████████████████████████████████████████████████████| 286/286 [14:38<00:00,  3.07s/it]\n"
     ]
    },
    {
     "name": "stdout",
     "output_type": "stream",
     "text": [
      "Wall time: 14min 39s\n"
     ]
    },
    {
     "data": {
      "text/html": [
       "<div>\n",
       "<style scoped>\n",
       "    .dataframe tbody tr th:only-of-type {\n",
       "        vertical-align: middle;\n",
       "    }\n",
       "\n",
       "    .dataframe tbody tr th {\n",
       "        vertical-align: top;\n",
       "    }\n",
       "\n",
       "    .dataframe thead th {\n",
       "        text-align: right;\n",
       "    }\n",
       "</style>\n",
       "<table border=\"1\" class=\"dataframe\">\n",
       "  <thead>\n",
       "    <tr style=\"text-align: right;\">\n",
       "      <th></th>\n",
       "      <th>0</th>\n",
       "      <th>1</th>\n",
       "      <th>2</th>\n",
       "    </tr>\n",
       "  </thead>\n",
       "  <tbody>\n",
       "    <tr>\n",
       "      <th>top5</th>\n",
       "      <td>0.511888</td>\n",
       "      <td>0.228750</td>\n",
       "      <td>0.316199</td>\n",
       "    </tr>\n",
       "    <tr>\n",
       "      <th>top10</th>\n",
       "      <td>0.432669</td>\n",
       "      <td>0.386562</td>\n",
       "      <td>0.408318</td>\n",
       "    </tr>\n",
       "    <tr>\n",
       "      <th>top15</th>\n",
       "      <td>0.380506</td>\n",
       "      <td>0.507500</td>\n",
       "      <td>0.434922</td>\n",
       "    </tr>\n",
       "    <tr>\n",
       "      <th>top20</th>\n",
       "      <td>0.329853</td>\n",
       "      <td>0.582500</td>\n",
       "      <td>0.421195</td>\n",
       "    </tr>\n",
       "  </tbody>\n",
       "</table>\n",
       "</div>"
      ],
      "text/plain": [
       "              0         1         2\n",
       "top5   0.511888  0.228750  0.316199\n",
       "top10  0.432669  0.386562  0.408318\n",
       "top15  0.380506  0.507500  0.434922\n",
       "top20  0.329853  0.582500  0.421195"
      ]
     },
     "execution_count": 13,
     "metadata": {},
     "output_type": "execute_result"
    }
   ],
   "source": [
    "%%time\n",
    "# elmo base\n",
    "elmo_base,_= SIFRank_score(data['title+abs'], embed_method='elmo')\n",
    "pd.DataFrame(evaluate(get_ranked_kplist(elmo_base), data)).T"
   ]
  },
  {
   "cell_type": "code",
   "execution_count": 14,
   "metadata": {},
   "outputs": [
    {
     "data": {
      "text/html": [
       "<div>\n",
       "<style scoped>\n",
       "    .dataframe tbody tr th:only-of-type {\n",
       "        vertical-align: middle;\n",
       "    }\n",
       "\n",
       "    .dataframe tbody tr th {\n",
       "        vertical-align: top;\n",
       "    }\n",
       "\n",
       "    .dataframe thead th {\n",
       "        text-align: right;\n",
       "    }\n",
       "</style>\n",
       "<table border=\"1\" class=\"dataframe\">\n",
       "  <thead>\n",
       "    <tr style=\"text-align: right;\">\n",
       "      <th></th>\n",
       "      <th>0</th>\n",
       "      <th>1</th>\n",
       "      <th>2</th>\n",
       "    </tr>\n",
       "  </thead>\n",
       "  <tbody>\n",
       "    <tr>\n",
       "      <th>top5</th>\n",
       "      <td>0.511888</td>\n",
       "      <td>0.228750</td>\n",
       "      <td>0.316199</td>\n",
       "    </tr>\n",
       "    <tr>\n",
       "      <th>top10</th>\n",
       "      <td>0.432669</td>\n",
       "      <td>0.386562</td>\n",
       "      <td>0.408318</td>\n",
       "    </tr>\n",
       "    <tr>\n",
       "      <th>top15</th>\n",
       "      <td>0.380506</td>\n",
       "      <td>0.507500</td>\n",
       "      <td>0.434922</td>\n",
       "    </tr>\n",
       "    <tr>\n",
       "      <th>top20</th>\n",
       "      <td>0.329853</td>\n",
       "      <td>0.582500</td>\n",
       "      <td>0.421195</td>\n",
       "    </tr>\n",
       "  </tbody>\n",
       "</table>\n",
       "</div>"
      ],
      "text/plain": [
       "              0         1         2\n",
       "top5   0.511888  0.228750  0.316199\n",
       "top10  0.432669  0.386562  0.408318\n",
       "top15  0.380506  0.507500  0.434922\n",
       "top20  0.329853  0.582500  0.421195"
      ]
     },
     "execution_count": 14,
     "metadata": {},
     "output_type": "execute_result"
    }
   ],
   "source": [
    "pd.DataFrame(evaluate(get_ranked_kplist(elmo_base), data)).T"
   ]
  },
  {
   "cell_type": "markdown",
   "metadata": {},
   "source": [
    "# Clustering"
   ]
  },
  {
   "cell_type": "code",
   "execution_count": 15,
   "metadata": {},
   "outputs": [],
   "source": [
    "import warnings\n",
    "warnings.filterwarnings('ignore')"
   ]
  },
  {
   "cell_type": "code",
   "execution_count": 16,
   "metadata": {},
   "outputs": [],
   "source": [
    "from clustering import *"
   ]
  },
  {
   "cell_type": "markdown",
   "metadata": {},
   "source": [
    "## keyphrase selection"
   ]
  },
  {
   "cell_type": "code",
   "execution_count": 17,
   "metadata": {},
   "outputs": [],
   "source": [
    "filtered_kpdata = select_kp(data, con_final, abrv_corpus, topn=15, filter_thre = 0.2)"
   ]
  },
  {
   "cell_type": "code",
   "execution_count": 18,
   "metadata": {},
   "outputs": [],
   "source": [
    "kpterms = ClusData(filtered_kpdata, embed_model=embeddings_index, embed_method='conceptnet')\n",
    "# kpclus = Clusterer(kpterms, method = 'sp-kmeans')\n",
    "# kpclus.find_opt_k_sil(100)"
   ]
  },
  {
   "cell_type": "code",
   "execution_count": 19,
   "metadata": {},
   "outputs": [
    {
     "name": "stdout",
     "output_type": "stream",
     "text": [
      "Wall time: 3min 28s\n"
     ]
    }
   ],
   "source": [
    "%%time\n",
    "# test for optimal k \n",
    "nums=range(10,100,2)\n",
    "sp_silscore=[]\n",
    "sp_dbscore=[]\n",
    "sp_chscore=[]\n",
    "sp_inertia = []\n",
    "\n",
    "for num in nums:\n",
    "    clst=SphericalKMeans(num, init='k-means++', random_state = 0, n_init=10)\n",
    "    y=clst.fit_predict(kpterms.embed)\n",
    "    sp_inertia.append(clst.inertia_)\n",
    "    sp_silscore.append(silhouette_score(kpterms.embed,y,metric='cosine'))\n",
    "\n",
    "nums=range(10,100,2)\n",
    "hac_silscore=[]\n",
    "hac_dbscore=[]\n",
    "hac_chscore=[]\n",
    "for num in nums:\n",
    "    clst=AgglomerativeClustering(n_clusters=num, affinity = 'cosine', linkage = 'average')\n",
    "    y=clst.fit_predict(kpterms.embed)\n",
    "    hac_silscore.append(silhouette_score(kpterms.embed,y,metric='cosine'))"
   ]
  },
  {
   "cell_type": "code",
   "execution_count": 20,
   "metadata": {},
   "outputs": [
    {
     "data": {
      "image/png": "[encoded data removed]",
      "text/plain": [
       "<Figure size 640x480 with 1 Axes>"
      ]
     },
     "metadata": {},
     "output_type": "display_data"
    }
   ],
   "source": [
    "import matplotlib.pyplot as plt\n",
    "\n",
    "plt.rcdefaults() \n",
    "\n",
    "\n",
    "\n",
    "fig=plt.figure()\n",
    "ax=fig.add_subplot(1,1,1)\n",
    "ax.plot(nums,sp_silscore,marker=\"+\", label='Spherical KMeans')\n",
    "ax.plot(nums,hac_silscore,marker=\"*\",color='red', linestyle='--', label='Agglomerative Clustering')\n",
    "ax.set_xlabel(\"n_clusters\")\n",
    "ax.set_ylabel(\"silhouette_score\")\n",
    "ax.legend(loc = 'bottom right')\n",
    "plt.show()"
   ]
  },
  {
   "cell_type": "code",
   "execution_count": 21,
   "metadata": {},
   "outputs": [
    {
     "data": {
      "text/plain": [
       "74"
      ]
     },
     "execution_count": 21,
     "metadata": {},
     "output_type": "execute_result"
    }
   ],
   "source": [
    "10+sp_silscore.index(max(sp_silscore))*2"
   ]
  },
  {
   "cell_type": "code",
   "execution_count": 26,
   "metadata": {},
   "outputs": [
    {
     "name": "stdout",
     "output_type": "stream",
     "text": [
      "Clustering silhouette score: 0.06942723188539224\n",
      "Clustering davies bouldin score: 2.2370335093262357\n",
      "Calinski Harabaz: 10.8581\n",
      "Wall time: 3.83 s\n"
     ]
    }
   ],
   "source": [
    "%%time\n",
    "hacclus = Clusterer(kpterms, n_cluster=74, affinity = 'cosine', linkage = 'average', method = 'agglo')\n",
    "hacclus.fit()\n",
    "from sklearn import metrics\n",
    "print(\"Calinski Harabaz: %0.4f\" % metrics.calinski_harabaz_score(kpterms.embed, hacclus.membership))"
   ]
  },
  {
   "cell_type": "code",
   "execution_count": 27,
   "metadata": {},
   "outputs": [
    {
     "name": "stdout",
     "output_type": "stream",
     "text": [
      "Clustering concentration score: 1565.3844768363533\n",
      "Clustering silhouette score: 0.1632538555800447\n",
      "Clustering davies bouldin score: 2.4899989566000746\n",
      "Calinski Harabaz: 19.2028\n",
      "Wall time: 43.5 s\n"
     ]
    }
   ],
   "source": [
    "%%time\n",
    "spclus = Clusterer(kpterms, n_cluster=74, method = 'sp-kmeans')\n",
    "spclus.fit()\n",
    "from sklearn import metrics\n",
    "print(\"Calinski Harabaz: %0.4f\" % metrics.calinski_harabaz_score(kpterms.embed, spclus.membership))"
   ]
  },
  {
   "cell_type": "code",
   "execution_count": 29,
   "metadata": {},
   "outputs": [],
   "source": [
    "center_names = []\n",
    "clus_centers = spclus.center_ids\n",
    "for cluster_id, keyword_idx in clus_centers:\n",
    "    keyword = kpterms.id2kp[keyword_idx]\n",
    "    center_names.append(keyword)"
   ]
  },
  {
   "cell_type": "code",
   "execution_count": 31,
   "metadata": {},
   "outputs": [],
   "source": [
    "clusters = {}\n",
    "for i in spclus.class2word:\n",
    "    clusters[float(i)] = find_most_similar(center_names[i], kpterms, spclus, n='all')"
   ]
  },
  {
   "cell_type": "code",
   "execution_count": 34,
   "metadata": {},
   "outputs": [
    {
     "name": "stdout",
     "output_type": "stream",
     "text": [
      "31\n",
      "multi_scale_segmentation\n",
      "['a', 'large_scale_model', 'large_scale_data', 'large_scale_ai_solution', 'deep_multi_modal_image_fusion', 'large_scale_classification', 'regional_multi_scale_approach', 'regional_multi_scale_method', 'imagenet_large_scale_visual_recognition_challenge', 'large_scale_real_world', 'large_scale', 'similar_region', 'multi_class_svm', 'large_geospatial_datasets', 'large_range', 'multi_layer_perceptron', 'multi_scale_segmentation', 'regional_multi_scale_concept', 'multi_dimensional_signal', 'multi_faceted_visualization_scheme', 'multi_channel_sample', 'multi_dimensionality', 'large_scale_code_mixed_corpus', 'extreme_multi_label', 'interactive_cluster']\n",
      "=================================================================\n",
      "4\n",
      "explainable_machine_learning\n",
      "['explainable_a_i', 'explainable_system', 'explainable_machine_learning', 'explainable_ai_system', 'explainable_deep_learning', 'explainable_data', 'explainable_cooperative_machine_learning', 'explainable_ai', 'explainable_ai_method', 'explainable_predictive_deep_learning', 'explainable_pattern_recognition_system', 'explainable_prediction', 'recent_explainable_ai', 'explainable_cyber_physical_system', 'explainable_artificial_intelligence', 'explainable_convolutional_neural_network_architecture', 'explainable_classifier', 'explainable_text_classification', 'art_explainable_artificial_intelligence', 'explainable_behavior', 'explainable_point', 'explainable_sentiment_analysis', 'explainable_face', 'explainable_reasoning', 'explainable_software_behavior', 'explainable_recommendation', 'explainable_predictive_coding', 'explainable_instance_alignment', 'explainable_bug_fix', 'explainable_logical_expression_rule', 'explainability_tool', 'explainable_multilayer_perceptrons', 'semantic_explainability', 'distributional_memory_explainable_word_embeddings', 'improved_explainability', 'explainability_concern', 'explainability_demand', 'understandable_component']\n",
      "=================================================================\n",
      "9\n",
      "machine_learning_method\n",
      "['machine_learning_model', 'machine_learning_system', 'explainable_machine_learning_model', 'machine_learning_model_prediction', 'interpretable_machine_learning_model', 'machine_learning_approach', 'predictive_machine_learning_model', 'machine_learning_method', 'applied_machine_learning_model', 'sophisticated_machine_learning_model', 'machine_learning_application', 'machine_learning_prediction', 'black_box_machine_learning_model', 'machine_learning_algorithm', 'machine_learning_technique', 'machine_learning_performance', 'machine_learning_classifier', 'machine_learning_software', 'machine_learning_expert', 'machine_learning_tool', 'explainable_machine_learning_challenge', 'machine_learning_methodology', 'machine_learning_researcher', 'machine_learning_workflow', 'traditional_machine_learning_method', 'common_machine_learning_method', 'cadre_machine_learning_approach', 'debug_black_box_machine_learning_model', 'interpretable_machine_learning_algorithm', 'unsupervised_machine_learning_technique', 'modern_machine_learning_technique', 'powerful_machine_learning_algorithm', 'informed_machine_learning_process', 'nonparametric_machine_learning_methodology', 'uci_machine_learning_repository']\n",
      "=================================================================\n",
      "66\n",
      "decision_process\n",
      "['model_decision', 'decision_model', 'decision_learning', 'internal_decision_model', 'human_decision', 'obscure_decision_system', 'autonomous_decision_making_system', 'classification_decision', 'online_decision_making_system', 'detection_decision', 'decision_process', 'decision_making', 'decision_task', 'classifier_decision', 'support_decision', 'decision_support', 'understanding_decision', 'decision_making_process', 'decision_rule', 'document_classification_decision', 'decision_tree', 'autonomous_decision', 'decision_solution', 'critical_decision', 'diagnosis_decision', 'specific_decision', 'accurate_decision', 'difficult_decision', 'online_decision', 'decision_path', 'medical_decision_process', 'black_box_decision_making', 'decision_rationale', 'internal_decision', 'decision_finding_process', 'investment_decision', 'final_decision', 'collective_decision', 'decision_maker', 'histopathological_decision', 'responsible_decision', 'explainable_classifier_supporting_decision_making', 'complicated_decision', 'strategic_decision', 'decision_ambiguity', 'clinical_decision_making', 'algorithmic_decision_making_process', 'fair_decision_making', 'patient_level_decision', 'uncertainty_decision_support', 'fairer_decision_making', 'life_critical_decision', 'oblique_decision_tree', 'final_decision_outcome', 'linear_decision_boundary', 'clear_decision_boundary', 'military_decision_maker', 'decision_tree_weka_implementation', 'fairness_aware_decision_pipeline', 'legal_matter']\n",
      "=================================================================\n",
      "63\n",
      "aigenerated_explanation\n",
      "['explanation_model', 'learning_explanation_pattern', 'human_explanation', 'prediction_explanation', 'explanation_process', 'explanation_algorithm', 'explanation_framework', 'visual_explanation', 'explanation_quality', 'interpretable_explanation', 'explanation_based_reward', 'end_user_explanation', 'human_understandable_explanation', 'action_explanation', 'semantic_explanation', 'explanation_generation', 'explanation_mechanism', 'accurate_explanation', 'local_explanation', 'explanation_content', 'explanation_effect', 'textual_explanation', 'explanation_capability', 'explanation_interface', 'explicit_explanation', 'good_explanation', 'diverse_explanation', 'movement_explanation', 'global_explanation', 'embedded_explanation', 'multimodal_explanation', 'salient_explanation', 'pleasing_explanation', 'meaningful_explanation', 'explanation_style', 'complementary_explanation', 'plan_explanation', 'balanced_explanation', 'personalised_explanation', 'counterfactual_explanation', 'partial_explanation', 'approximate_explanation', 'convincing_explanation', 'aigenerated_explanation', 'curating_explanation', 'succinct_explanation', 'agent_explanation_effect', 'agent_behaviour_explanation', 'robot_action_explanation', 'text_explanation_generation', 'instance_level_explanation', 'location_recognition_explanation', 'affective_intelligent_agent_explanation', 'offline_dnn_explanation', 'contrastive_explanation_question', 'entity_resolution_explanation', 'reasonable_recommendation_explanation', 'wise_dependent_explanation', 'balanced_english_explanation', 'explanatory_case', 'reason_action', 'textual_interpretation', 'patch_interpretation', 'causal_reasoning', 'description_logic_representation', 'symbolic_reasoning', 'interpretation_barrier', 'explanatory_power', 'textual_justification']\n",
      "=================================================================\n",
      "11\n",
      "dnn_model\n",
      "['model_based', 'model_application', 'prediction_model', 'model_prediction', 'hybrid_system_model', 'classifier_model', 'model_training', 'complex_model', 'model_development', 'model_transparency', 'ml_model', 'predictive_model', 'model_space', 'art_model', 'similar_model', 'generation_model', 'image_classification_model', 'dnn_model', 'accurate_model', 'suitable_network_model', 'sequence_model', 'model_structure', 'physical_model', 'applied_model', 'traditional_model', 'linear_explanation_model', 'logic_model', 'inference_model', 'multimodal_explanation_model', 'model_error', 'statistical_model', 'model_comparison', 'explicit_model', 'model_developer', 'engineer_model', 'model_selection', 'robust_model', 'hybrid_model', 'reverse_model', 'automatic_model', 'model_vulnerability', 'business_model', 'model_limitation', 'conformal_model', 'primary_model', 'human_behavior_model', 'final_model', 'model_approximation', 'ensemble_model', 'baseline_model', 'original_model', 'extended_model', 'model_credibility', 'ab_model', 'mathematical_model', 'probabilistic_model', 'advanced_model', 'synthesis_model', 'sophisticated_model', 'complete_model', 'mental_model', 'defense_model', 'biological_model', 'model_discrepancy', 'nonlinear_model', 'model_disparity', 'timeseries_model', 'surrogate_model', 'model_correction', 'model_iteration', 'arm_model', 'model_reconciliation', 'systematic_model', 'additive_model', 'vgg16_model', 'converging_model', 'model_reasoning_process', 'baseline_classification_model', 'model_version_research', 'recent_generation_model', 'current_model_state', 'analytical_programming_decision_model', 'model_performance_analysis_dashboard', 'latent_class_model', 'topic_model_optimization', 'target_physical_model', 'black_box_ml_model', 'aggregated_model_analytics', 'trustworthy_predictive_model', 'model_agnostic_part', 'reliable_predictive_model', 'cnn_text_classifier_model', 'underlying_model_learns', 'generative_policy_model', 'topic_model_refinement', 'unsupervised_cae_model', 'textual_justification_model', 'standard_regression_model', 'traffic_forecasting_model', 'spatial_structured_prediction_model', 'linear_mixed_model', 'logistic_regression_model', 'art_sud_prediction_model', 'logistics_regression_model', 'modern_image_generative_model', 'ab_model_credibility', 'credit_scoring_model', 'compositional_grammar_model', 'mcmas_model_checker', 'traditional_software_component_model', 'shap_model_agnostic_technique', 'explicit_model_manipulation_interaction', 'guided_topic_model_refinement', 'modeling_step', 'topic_modeling', 'modeling_perspective', 'dynamic_modeling', 'modeling_phase', 'modeling_workflow', 'evolutionary_modeling_practice', 'simulation', 'prototype_instance']\n",
      "=================================================================\n",
      "23\n",
      "ai_algorithm\n",
      "['ai_model', 'human_ai', 'ai_application', 'ai_research', 'multi_agent_system', 'ai_process', 'ai_algorithm', 'ai_technique', 'fuzzy_ai', 'interpretable_ai', 'leverage_ai_method', 'ai_method_suit', 'ai_area', 'human_centric_ai', 'ai_solution', 'ai_patient', 'mixed_human_ai_technique', 'ai_topic', 'ai_component', 'edge_ai', 'general_ai', 'ai_capability', 'ai_failure', 'ai_engineer', 'ai_ethic', 'human_centric_ai_field', 'broad_ai', 'ai_player', 'multimedia_ai', 'responsible_ai', 'sustainable_ai', 'ai_accelerator', 'today_ai', 'narrow_ai', 'editable_ai', 'ai_operationalization', 'mixed_human_ai_authoring', 'artificial_general_intelligence', 'current_ai_revolution', 'person_identification_ai', 'analog_ai_device', 'specialized_ai_accelerator', 'i_e_clustering', 'atari_game']\n",
      "=================================================================\n",
      "68\n",
      "deep_neural_network\n",
      "['deep_learning_model', 'deep_model', 'deep_learning_system', 'deep_neural_network_model', 'deep_learning_approach', 'deep_learning_algorithm', 'deep_network', 'deep_sequence_model', 'deep_learning_architecture', 'deep_neural_network', 'deep_learning_image_classifier', 'previous_deep_learning_approach', 'deep_net_system', 'deep_learning_outcome', 'explainable_deep_neural_network', 'deep_reinforcement_learning', 'deep_neural_network_prediction', 'deep_artificial_neural_network', 'deep_network_architecture', 'understanding_deep_neural_network', 'deep_reinforcement_learning_agent', 'deep_convolutional_network', 'deep_neural_network_architecture', 'deep_convolutional_neural_network', 'deep_recurrent_neural_network', 'heterogeneous_deep_convolutional_neural_network', 'interpretable_deep_extreme_multi_label_learning', 'deep_representation', 'deep_structure', 'improved_deep_fuzzy', 'deep_reinforcement', 'deep_taylor_motivated_approach', 'deep_infusion', 'deep_dive', 'face_depth']\n",
      "=================================================================\n",
      "16\n",
      "neural_network\n",
      "['machine_learning', 'deep_learning', 'computational_model', 'applied_machine_learning', 'distributed_machine_learning', 'cooperative_machine_learning', 'neural_network', 'predictive_deep_learning', 'art_deep_learning', 'artificial_neural_network', 'predictive_neural_network', 'convolutional_neural_network', 'simple_neural_network', 'single_neural_network', 'recurrent_neural_network', 'biological_neural_network', 'mlp_neural_network', 'artificial_intelligence', 'stacked_autoencoder_deep_neural_network', 'art_convolutional_neural_network', 'normal_convolutional_neural_network', '3d_convolutional_neural_network', 'interactive_recurrent_neural_network', 'stacked_autoencoder_neural_network', 'bi_directional_neural_network', 'physic_guided_neural_network', 'modern_artificial_intelligence', 'explanatory_artificial_intelligence', 'fuzzy_set', 'computational_intelligence', 'real_time', 'sentiment_analysis', 'fuzzy_logic', 'computational_time', 'pattern_recognition', 'natural_language_processing', 'computer_game', 'computer_vision', 'xai_cbir', 'computational_resource', 'computational_power', 'game_adaptivity', 'computational_pipeline', 'computational_efficiency']\n",
      "=================================================================\n",
      "51\n",
      "interpretable_model\n",
      "['explainable_model', 'interpretable_learning_model', 'explainable_ai_model', 'interpretable_model', 'model_interpretability', 'explainable_intelligence_model', 'explainability_model', 'interpretable_machine_learning', 'understandable_model', 'generating_explainable_ai_model', 'explainable_generative_model', 'prior_explainable_model', 'explainable_hybrid_model', 'explainable_lstm_model', 'explainable_kinematic_model', 'explainable_sentiment_analysis_model', 'interpretable_generative_model', 'good_model_explainability', 'explainable_credit_risk_model', 'contextual_explanatory_model', 'interpretable_multiview_early_warning_system', 'interpretable_classifier', 'interpretable_ml_classifier', 'interpretable_ml', 'interpretable_frbs_framework', 'interpretable_representation', 'ml_interpretability', 'interpretable_label', 'lack_interpretability', 'interpretable_approximation', 'effective_interpretability_improvement', 'interpretable_mask', 'practical_interpretability', 'agnostic_interpretability', 'interpretable_label_hierarchy', 'customized_interpretable_conformal_regressors']\n",
      "=================================================================\n",
      "72\n",
      "xai_system\n",
      "['ai_system', 'system_user', 'big_data_system', 'classifier_system', 'agent_system', 'system_design', 'xai_system', 'system_behavior', 'intelligent_system', 'analytics_system', 'iot_system', 'ml_system', 'testing_system', 'system_engineering', 'primary_ai_system', 'industrial_system', 'system_uncertainty', 'prototype_system', 'errant_ai_system', 'hierarchical_system', 'modern_system', 'fusion_system', 'system_engineer', 'leverage_system', 'hybrid_system', 'heterogeneous_system', 'internal_system', 'black_box_ai_system', 'iiot_system', 'military_system', 'cad_system', 'wireless_system', 'ubiquitous_system', 'secure_system', 'window_system', 'planning_system', 'unmanned_system', 'computerised_system', 'recommender_system', 'trustable_system', 'system_disengagement', 'edge_intelligence_system', 'population_health_ai_system', 'information_fusion_system', 'social_medium_system', 'face_recognition_system', 'iot_system_uncertainty', 'command_decision_support_system_ai_problem_decomposition', 'complex_algorithmic_system', 'xai_cbir_system', 'complex_ict_system', 'safety_critical_system', 'gesture_recognition_system', 'trustworthy_iot_system', 'multi_disciplinary_system', 'intelligent_tutoring_system', 'form_control_system', 'building_automation_system', 'organizing_industrial_system', 'question_answering_system', 'program_repair_system', 'socio_technical_system', 'ip_reputation_system', 'conversational_system_chatbots', 'iot_fog_cloud_system', 'uncertain_iot_notification_system']\n",
      "=================================================================\n",
      "35\n",
      "autoencoder_network\n",
      "['neural_network_model', 'knowledge_network', 'network_performance', 'neural_network_research', 'deep_neural_network_software', 'network_interpretability', 'neural_network_agent', 'network_level', 'social_network', 'input_network', 'multi_network', 'convolutional_network', 'network_issue', 'network_edge', 'autoencoder_network', 'bayesian_network_application', 'identification_network', 'transparent_network', 'network_operator', 'network_flow', 'network_depth', 'network_weight', 'network_alignment', 'critic_network', 'discriminator_network', 'organizing_network', 'capsule_network', 'cellular_network', 'network_dissection', 'convolutional_neural_network_cnn', 'social_network_concept', 'multi_sensor_network', 'wireless_communication_data', 'social_network_chatbots', 'prototype_sequence_network', 'neural_network_obfuscation_identification', '5_g_network', 'multiview_early_warning_system', 'adversarial_multi_network_mining', 'network_resource_usage', 'fooling_network_interpretation', 'network_resource_allocation', 'network_traffic_recording', 'industrial_iot_network_edge', 'bounding_box_critic_network', 'organizing_cellular_network', 'multiattribute_residual_network', 'wireless_local_area_network', 'cross_network_node_similarity', 'cnn_fixation', '1d_cnn', 'mtex_cnn', 'access_point', 'intelligent_wlan_early_warning_platform', 'prevailing_networking_architecture']\n",
      "=================================================================\n",
      "39\n",
      "fuzzy_system\n",
      "['fuzzy_model', 'fuzzy_system', 'interpretable_fuzzy_system', 'fuzzy_inference_system_decision', 'mamdani_fuzzy_model', 'interpretable_fuzzy_decision_support_system', 'fuzzy_system_complexity', 'hierarchical_fuzzy_system', 'evolutionary_fuzzy_system', 'neuro_fuzzy_system', 'fuzzy_approach', 'fuzzy_method', 'interpretable_hierarchical_fuzzy_system', 'type_2_fuzzy_logic_based_explainable_artificial_intelligence_system', 'evolutionary_fuzzy_system_research_field', 'fuzzy_inference_decision', 'type_2_fuzzy_logic_system', 'fuzzy_algorithm', 'deep_fuzzy_clustering_algorithm', 'deep_fuzzy_clustering', 'accurate_deep_fuzzy_classifier', 'fuzzy_classifier', 'fuzzy_emotion_classification', 'fuzzy_rule', 'knowledge_fuzzy_inference', 'fuzzy_emotion_recognition_framework', 'fuzzy_methodology', 'fuzzy_modeling', 'unsupervised_deep_embedding', 'fuzzy_clustering', 'fuzzy_property', 'fuzzy_inference', 'fuzzy_relation', 'fuzzy_analytical_hierarchy_process', 'fuzzy_inference_mechanism', 'fuzzy_predicate', 'fuzzy_logic_community', '3_fuzzy_linguistic_label']\n",
      "=================================================================\n",
      "15\n",
      "learning_technique\n",
      "['learning_analytics_system', 'deep_learning_method', 'learning_process', 'learning_technique', 'learning_framework', 'deep_learning_technique', 'unsupervised_learning', 'unsupervised_learning_method', 'traditional_learning_method', 'learning_outcome', 'reinforcement_learning', 'probabilistic_learning_method', 'active_learning', 'learning_preference', 'advanced_learning', 'transfer_learning', 'mask_learning', 'topological_learning', 'explainable_reinforcement_learning', 'operative_learning_application', 'unsupervised_learning_algorithm', 'unsupervised_learning_technique', 'interactive_learning_technique', 'reinforcement_learning_agent', 'adaptive_learning_agent', 'unsupervised_learning_module', 'virtual_learning_environment', 'local_manifold_learning', 'mutual_learning_cycle', 'social_interaction', 'learned_failure_mode']\n",
      "=================================================================\n",
      "28\n",
      "classification_algorithm\n",
      "['classification_system', 'classification_problem', 'classification_algorithm', 'latent_class_multi_label_classification_model', 'visual_classification', 'visual_classification_problem', 'classification_accuracy', 'text_classification', 'object_classification', 'classification_dataset', 'binary_classification_problem', 'benchmark_classification_problem', 'specific_classification', 'multi_class_classification', 'binary_classification', 'transparent_classification', 'node_classification', 'incorrect_classification', 'cleanliness_classification', 'mi_classification', 'heartbeat_classification', 'mutant_classification', 'similar_classification_example', 'correct_classification_rate', 'latent_class_multi_label_classification', 'multi_label_classifier', 'binary_fragment_classification', 'correct_heartbeat_classification', 'automatic_genre_classification', 'classification_conflict_resolution', 'unbiased_cleanliness_classification', 'comprehensible_genetic_programming_classification_rule']\n",
      "=================================================================\n",
      "33\n",
      "unique_feature\n",
      "['feature_learning', 'data_feature', 'feature_analysis', 'feature_importance_evaluation_approach', 'input_feature', 'multi_channel_deep_feature', 'lightweight_feature_extraction_approach', 'feature_space', 'significant_feature', 'feature_engineering', 'feature_importance', 'relevant_feature', 'word_feature', 'generating_feature', 'individual_feature', 'feature_extraction', 'instance_feature', 'feature_vector', 'discriminative_feature', 'feature_selection', 'linguistic_feature', 'transformation_feature', 'relevant_input_feature', 'feature_perturbation', 'unique_feature', 'kinematic_feature', 'feature_enrichment', 'feature_engineering_effort', 'multi_channel_feature', 'facial_feature_extraction', 'feature_space_partitioning', 'relevant_lip_feature', 'general_linguistic_feature', 'successful_feature_extraction', '3d_geometric_feature', '17_linguistic_feature', 'motivated_gabor_feature', 'fast_lip_feature_extraction']\n",
      "=================================================================\n",
      "29\n",
      "prediction_result\n",
      "['classification_model_result', 'complex_model_prediction_result', 'prediction_result', 'classification_result', 'experiment_result', 'experimental_result', 'similar_accuracy_result', 'mining_result', 'simulation_result', 'quantitative_result', 'good_result', 'preliminary_result', 'random_forest_prediction_result', 'anomaly_score', 'impact_score', 'similarity_score', 'scientific_outcome', 'hdfs_log_file']\n",
      "=================================================================\n",
      "21\n",
      "anomaly_detection\n",
      "['detection_system', 'network_intrusion_detection_system', 'object_detection_system', 'intrusion_detection_system', 'effective_intrusion_detection_model', 'industrial_anomaly_detection_system', 'log_file_anomaly_detection_system', 'detection_accuracy', 'object_detection_framework', 'anomaly_detection_problem', 'facial_landmark_detection_method', 'object_detection', 'interpretable_object_detection', 'detection_methodology', 'attack_detection', 'anomaly_detection', 'community_detection', 'fault_detection', 'deep_electric_pole_anomaly_detection', 'intrusion_detection', 'unsupervised_anomaly_detection', 'speech_detection', 'robust_detection', 'robust_object_detection', 'trustworthy_detection', 'outlier_detection', 'malware_detection', 'detection_statistic', 'black_box_android_malware_detection', 'detection_trustworthiness', 'hotspot_detection', 'intrusion_detection_mechanism', 'hyperspectral_anomaly_detection', 'iot_botnet_detection', 'facial_landmark_detection', 'effective_facial_landmark_detection', 'semi_supervised_anomaly_detection', 'competitive_intrusion_detection_architecture', 'early_sepsis_detection', 'occlusion_robust_object_detection', 'generative_anomaly_detector_algorithm', 'popular_android_malware_detection_task', 'autoencoder_detection_scheme', 'generation_trustworthy_fraud_detection', 'anomaly_detector', 'effective_detector', 'detected_anomaly', 'back_anomaly', 'facial_landmark_detector', 'traffic_light_phase', 'facial_movement']\n",
      "=================================================================\n",
      "45\n",
      "adversarial_attack_algorithm\n",
      "['adversarial_model', 'adversarial_machine_learning', 'adversarial_machine', 'adversarial_approach', 'generative_adversarial_network', 'adversarial_attack_algorithm', 'adversarial_attack', 'ml_attack', 'adversarial_example', 'adversarial_patch', 'attack_strategy', 'adversarial_perturbation', 'adversarial_noise', 'printable_adversarial_patch', 'collaborative_scenario']\n",
      "=================================================================\n",
      "57\n",
      "opf_performance\n",
      "['system_performance', 'method_performance', 'classification_performance', 'prediction_performance_quality', 'high_prediction_performance', 'classifier_performance', 'super_human_performance', 'future_performance', 'high_performance', 'performance_driven_micro_service_based_architecture', 'predictive_performance', 'art_performance', 'similar_performance', 'competitive_community_detection_performance', 'individual_performance', 'student_performance', 'art_predictive_performance', 'recommendation_performance', 'high_performance_networking', 'performance_basis', 'significant_performance_improvement', 'art_attribute_recognition_performance', 'opf_performance', 'impressive_performance', 'remarkable_performance', 'performance_benchmarking', 'exceptional_testing_performance', 'conventional_device_power_performance', 'benchmark_datasets', 'superb_ability']\n",
      "=================================================================\n",
      "3\n",
      "decision_support_system\n",
      "['decision_support_system', 'real_decision_support_system', 'current_decision_support_system', 'medical_decision_support_system', 'efficient_decision_support_system', 'clinical_decision_support_system', 'comprehensive_decision_support_system', 'computerised_decision_support_system', 'radiology_decision_support_system', 'intelligent_command_decision_support_system', 'intelligent_military_command_decision_support_system', 'legal_service', 'internet_service', 'service_optimization', 'trust_establishment', 'financial_service_space', 'service_response', 'social_medium_provider', 'financial_service', 'dependent_service', 'valuable_service', 'personalized_service', 'lightweight_web_service_testing', 'customer_service', 'http_service', 'selecting_service', 'service_save', 'lightweight_http_service', 'optimal_service_delivery']\n",
      "=================================================================\n",
      "17\n",
      "practical_application\n",
      "['data_application', 'data_mining_application', 'big_data_application', 'data_intensive_application', 'application_specific_data_augmentation_algorithm', 'potential_application', 'application_area', 'iot_application', 'security_application', 'important_application_case', 'application_testing', 'medical_application', 'specific_application', 'online_application', 'industrial_application', 'traditional_application', 'smart_application', 'small_application', 'practical_application', 'application_semantics', 'blockchain_application', 'heterogeneous_application', 'common_application', 'malware_application', 'numerous_application', 'dl_application', 'successful_application', 'biomedical_application', 'analytic_application', 'security_related_application', 'aerospace_application', 'cps_security_application', 'modern_application_development', 'computer_vision_application', 'risk_assessment_application', 'review_ci_application', 'facial_related_application', 'safety_critical_application', 'intelligent_mobile_application', 'long_term_health_support_application', 'countless_application_area', 'industrial_safety_critical_application', 'malicious_android_application', 'spatio_temporal_application_area', 'comprehensive_sleep_care_application']\n",
      "=================================================================\n",
      "19\n",
      "task_understanding\n",
      "['learning_task', 'challenging_learning_task', 'classification_task', 'multi_network_mining_task', 'attention_based_multi_task', 'cnn_classification_task', 'intelligence_analysis_sensemaking_task', 'visual_understanding_task', 'face_analysis_task', 'task_understanding', 'sentiment_classification_task', 'important_task', 'complex_task', 'multi_task', 'sensemaking_task_performance', 'relevant_task', 'speech_understanding_task', 'inference_task', 'collective_action_problem', 'activity_recognition_task', 'complex_collaborative_task', 'visual_question_answering_task', 'multiple_task', 'computer_vision_task', 'networking_task', 'task_suggestion', 'nlp_task', 'son_task', 'sophisticated_task', 'central_task', 'language_acquisition_task', 'task_coordination', 'diverse_vision_task', 'joint_task_execution', 'routine_household_task', 'multiple_fundamental_cellular_task']\n",
      "=================================================================\n",
      "53\n",
      "software\n",
      "['software_system', 'management_system', 'software_analytics_model', 'traditional_software_system', 'software_engineering_approach', 'explainable_software_analytics', 'prior_software_application_domain', 'information_technology', 'software_engineering_process', 'software', 'software_engineering_research_community', 'explainable_software_bot_contribution', 'software_architecture', 'software_transparency', 'software_analytics', 'popular_web_application', 'software_engineering', 'software_component', 'software_architecture_perspective', 'traditional_software', 'software_practitioner', 'source_software', 'software_team', 'software_product', 'software_project', 'software_bot', 'unique_design_pattern', 'open_source_software', 'opensource_software', 'global_software_development_conversation', 'software_bot_contribution', 'hundred_software_engineer', 'legal_analytics_product', 'web_service', 'back_end', 'computer_program', 'computer_scientist', 'separate_front_end']\n",
      "=================================================================\n",
      "40\n",
      "emr_data\n",
      "['image_data', 'analysis_data', 'data_analysis', 'data_accuracy', 'data_set', 'data_architecture', 'data_transparency', 'data_analytics', 'survey_data', 'data_point', 'mining_data', 'big_data', 'data_mining', 'output_data', 'data_instance', 'assessment_data', 'data_value', 'data_exploration', 'data_acquisition', 'benchmark_data', 'data_item', 'clinical_data', 'heterogeneous_data', 'data_projection', 'synthetic_data', 'data_collection', 'intensive_data', 'data_provenance', 'production_data', 'unstructured_data', 'data_noise', 'data_professional', 'original_data', 'clustered_data', 'personal_data', 'annotated_data', 'histopathological_data', 'big_data_analysis', 'historical_data', 'genomics_data', 'data_modality', 'conversational_data', 'data_protection', 'geospatial_data', 'data_warehouse', 'behavioral_data', 'demographic_data', 'ultrasound_data', 'ge_data', 'data_manifold', 'data_table', 'unlabeled_data', 'emr_data', 'longitudinal_data', 'data_preparation', 'informative_data', 'nonprogrammable_data', 'data_analysis_pipeline', 'functional_data_analysis', 'loop_data_analysis_application', 'big_data_problem', 'data_analysis_novice', 'unstructured_raw_network_data', 'real_traffic_data', 'benchmark_data_set', 'data_science_tool', 'social_medium_data', 'data_driven_strategy', 'big_data_architecture', 'data_driven_optimization', 'consistent_data_set', 'data_processing_stage', 'entire_data_set', 'sincere_data_set', 'intelligent_data_pipeline', 'data_science_analysis_environment', 'data_science_scenario', 'single_data_point', 'noisy_iot_data', 'big_data_platform', 'standard_data_mining', 'textual_raw_data', 'data_science_curriculum', 'big_data_cybernetics', 'data_centric_xai_tool', 'unprecedented_data_collection', 'gene_expression_data', 'fundamental_data_cleaning', 'faulty_data_record', 'cross_domain_data_utilization', 'secure_data_sharing', 'live_data_forensics', 'class_synthetic_hyperspectral_data', 'general_data_protection_regulation', 'attribute_dataset', 'database_development', 'dataset_comparison', 'dataset_acquisition', 'financial_dataset', 'indonesian_mixed_emotion_dataset', 'mnist_dataset', 'abnormal_dataset', 'toy_dataset', 'dataset_lira', 'kitti_dataset', 'public_cholec80_dataset', 'public_database', 'database', 'benchmark_kdd_nsl_dataset', 'bank_telemarketing_dataset', 'database_acquisition']\n",
      "=================================================================\n",
      "2\n",
      "computational_approach\n",
      "['model_agnostic_approach', 'visual_approach', 'recent_approach', 'current_approach', 'computational_approach', 'hierarchical_approach', 'error_approach', 'statistical_approach', 'geometric_approach', 'standard_approach', 'hybrid_approach', 'qualitative_approach', 'multimodal_approach', 'forensic_approach', 'spectral_approach', 'logical_approach', 'heuristic_approach', 'interdisciplinary_approach', 'multidimensional_approach', 'unimodal_approach', 'pronged_approach', 'discretization_approach', 'overarching_approach', 'visual_cbr_approach', 'efficient_linear_classification_approach', 'traditional_autoencoder_approach', 'step_xml_approach', 'osmotic_computing_approach', 'natural_language_generation_approach', 'cartesian_genetic_programming_approach', 'reduced_precision_accelerator_approach', 'aim']\n",
      "=================================================================\n",
      "56\n",
      "explanation_method\n",
      "['explanation_method', 'xai_method_explanation', 'explanation_extraction_method', 'local_explanation_method', 'explanation_methodology', 'interpretable_method', 'effective_salient_explanation_method', 'argumentation_based_agent', 'recommendation_method', 'explanatory_method', 'verification_method', 'text_mining_method', 'methodology', 'main_methodology', 'aar_methodology', 'formal_methodology', 'notification_methodology', 'post_hoc_interpretation_step']\n",
      "=================================================================\n",
      "69\n",
      "artificial_intelligence_technology\n",
      "['explainable_artificial_intelligence_model', 'artificial_intelligence_system', 'human_intelligence', 'artificial_intelligence_approach', 'artificial_intelligence_method', 'intelligence', 'artificial_intelligence_research', 'artificial_intelligence_technique', 'artificial_intelligence_technology', 'artificial_intelligence_field', 'artificial_intelligence_scientist', 'artificial_intelligent', 'augmented_intelligence', 'nsf_artificial_intelligence_project', 'nsf_artificial_intelligent_project', 'artificial_neuron_weight', 'intelligent_simulation']\n",
      "=================================================================\n",
      "49\n",
      "statistical_method\n",
      "['statistical_machine_learning', 'regression_data_set', 'bayesian_network', 'statistical_ai_technique', 'statistical_method', 'traditional_statistical_epidemiology_method', 'time_series', 'raw_numeric_time_series', 'traditional_statistical_regression_modeling', 'probabilistic_methodology', 'statistical_science', 'chronological_order', 'multivariate_understandable_statistical_tree', 'latent_variable', 'spatial_statistic', 'linear_regression', 'underlying_probability_distribution', 'empirical_parameter', 'utility_function']\n",
      "=================================================================\n",
      "30\n",
      "interpretable_machine\n",
      "['explainable_machine', 'shared_machine_control_model', 'interpretable_machine', 'important_machine', 'complex_machine', 'intelligent_machine', 'machine_interaction', 'unsupervised_machine', 'relevant_machine', 'machine_vision', 'symbolic_machine', 'machine_ethic', 'ethical_machine', 'typical_machine', 'machine_existence', 'factorization_machine', 'interpretable_machine_learnig_algorithm', 'man_machine_support', 'analytics_machinery']\n",
      "=================================================================\n",
      "18\n",
      "autonomous_driving_system\n",
      "['autonomous_system', 'future_autonomous_system', 'autonomous_driving_system', 'diverse_autonomous_system', 'automated_traffic_management_system', 'typical_fault_management_system', 'dialogue_based_supervision', 'policy_based_autonomic_device_management', 'traffic_light_control_optimization_problem', 'field_engineer', 'internal_semi_autonomous_robot', 'autonomous_vehicle', 'autonomous_driving', 'autonomous_maintenance_scenario', 'autonomous_manipulation', 'fault_management', 'automatic_generation', 'device_management', 'traffic_signal_control', 'steering_mechanism', 'platform_operator', 'vehicle_liability_issue']\n",
      "=================================================================\n",
      "22\n",
      "html_document\n",
      "['black_box_model', 'document_summarization_system', 'vision_paper', 'cnn_based_text_classifier', 'short_paper', 'demo_paper', 'text_classifier', 'document_review', 'review_text', 'document_processing', 'white_box', 'legal_document_review', 'document_clustering', 'natural_language_document', 'unstructured_text_document', 'responsive_document', 'correct_document', 'e_mail', 'code_mixed_text', 'html_document', 'code_fragment_visualization', 'individual_html_document', 'multilingual_text', 'dnn_id', 'exploit_code', 'x86_code', 'status_code', 'error_source']\n",
      "=================================================================\n",
      "55\n",
      "visual_analytics\n",
      "['visual_analysis_system', 'visual_data', 'visual_analytics_system', 'visual_analytic_system', 'visual_network_analysis_technique', 'deep_visual_representation', 'visual_analysis_tool', 'visual_analytics_framework', 'visual_interpretability', 'readable_oblique_decision_tree', 'visual_analytics', 'visual_interaction', 'visual_analytics_tool', 'visual_representation', 'visual_knowledge_externalization', 'set_visualization', 'interactive_visualization_technique', 'hierarchical_visual_case', 'visual_structure', 'visual_analytics_solution', 'visual_aspect', 'visual_medium', 'visual_analytics_community', 'rich_visual_information', 'main_visual_representation', 'visual_analytics_researcher', 'interactive_visual_analytics_tool', 'visual_feedback', 'visual_experience', 'visual_analytics_workflow', 'cross_domain_visual_exploration', 'visual_interface', 'visual_size', 'visual_analytics_paradigm', 'visual_collaboration', 'visual_search', 'visual_debugging_tool', 'visual_diagnostics', 'visual_translation', 'visual_metaphor', 'visual_cue', 'interactive_visual_analytics_workspace', 'online_visualization', 'interactive_visualization', 'attention_visualization', 'efficient_visual_summary', 'interactive_exploration']\n",
      "=================================================================\n",
      "7\n",
      "decentralized_computing\n",
      "['file_system', 'input_data', 'data_processing', 'log_file_system', 'application_domain', 'heterogeneous_data_stream', 'hadoop_distributed_file_system', 'deep_net', 'human_computer_interaction', 'sbt_application_domain', 'rainbow_box', 'interactive_rainbow_box', 'document_file', 'future_computing_hardware', 'iot_device', 'edge_computing', 'malicious_document_file', 'distributed_edge_computing', 'computing_resource', 'hierarchical_structure', 'computing_power', 'diverse_iot_device', 'reservoir_computer', 'cloud_computing', 'reservoir_computing', 'operating_environment', 'osmotic_computing', 'decentralized_computing']\n",
      "=================================================================\n",
      "48\n",
      "ckd_prediction\n",
      "['bankruptcy_prediction_model', 'prediction_explanation_visualization', 'prediction_task', 'prediction_difference_method', 'prediction_accuracy', 'complex_prediction_problem', 'black_box_prediction', 'high_prediction_accuracy', 'sequence_prediction_task', 'specific_prediction', 'accurate_prediction', 'conformal_prediction_framework', 'improved_prediction', 'high_accuracy_prediction_ability', 'powerful_prediction', 'ht_prediction', 'prediction_interval', 'ckd_prediction', 'wind_prediction', 'stroke_prediction', 'rating_prediction', 'bankruptcy_prediction', 'link_prediction', 'precise_prediction', 'predictive_accuracy', 'entity_relation_prediction', 'numerical_weather_prediction', 'false_positive_prediction', 'valid_prediction_interval', 'predictive_modeling', 'uncertain_accuracy', 'poor_predictive_accuracy', 'upper_troposphere_wind_prediction', 'predictive_regression', 'predictive_coding', 'predictive_scheme', 'positive_predictive_rate']\n",
      "=================================================================\n",
      "54\n",
      "training_data\n",
      "['training_data', 'distance_learning', 'quality_training_data', 'training_data_acquisition', 'medical_training_data_acquisition', 'research_area', 'training_case', 'active_research_area', 'training_dataset_structure', 'student_support', 'training_parameter', 'similar_training_sample', 'training_reference_object', 'training_observation', 'academic_training', 'similar_training_observation', 'intensive_support', 'military_training', 'training_exercise_scenario', 'physical_resource', 'current_aar_practice', 'engineering_discipline', 'activity_monitoring', 'student_academic_activity']\n",
      "=================================================================\n",
      "34\n",
      "xai_framework\n",
      "['underlying_classification_system', 'heterogeneous_system_architecture', 'xai_framework', 'multi_agent_framework', 'knowledge_distillation_framework', 'popular_framework', 'conceptual_framework', 'certification_framework', 'chatbot_framework', 'dst_framework', 'reference_framework', 'unified_framework', 'gvgai_framework', 'dynamic_state_transition_framework', 'key_tag_extraction_framework', 'instance_alignment_framework', 'complex_policy', 'energy_game_theoretic_framework', 'limited_theoretical_framework', 'initial_xaid_framework', 'spatial_structure_pattern', 'spatial_structure', 'local_structure', 'latent_structure', 'latent_layer', 'implicit_spatial_structure', 'comprehensible_structure', 'promising_latent_structure', 'generative_form', 'logical_structure', 'structural_complexity', 'morphological_structure']\n",
      "=================================================================\n",
      "20\n",
      "algorithm\n",
      "['decision_problem', 'explanation_generation_algorithm', 'intelligence_algorithm', 'support_vector_machine', 'algorithm', 'standard_network_interpretation_algorithm', 'decision_tree_induction_algorithm', 'agent_algorithm', 'black_box_social_algorithm', 'social_algorithm', 'intelligent_algorithm', 'ml_algorithm', 'art_algorithm', 'interpretation_algorithm', 'feedback_based_keyphrase_extraction', 'algorithm_operation', 'path_algorithm', 'simple_algorithm', 'efficient_algorithm', 'evolutionary_algorithm', 'modern_social_algorithm', 'genetic_algorithm', 'dl_algorithm', 'heuristic_algorithm', 'local_classifier', 'secret_algorithm', 'apriori_algorithm', 'art_computer_vision_algorithm', 'binary_classifier', 'linear_classifier', 'fe_cnn_classifier', 'opf_classifier', 'content_delivery_algorithm', 'svm_classifier', 'weka_classifier', 'conventional_optimization_algorithm', 'effective_resource_allocation_algorithm', 'scalable_conversational_emotion_recognition_algorithm', 'regression_tree', 'optimum_path_forest_classifier', 'optimum_path_tree', 'resource_optimization', 'keywords_extraction']\n",
      "=================================================================\n",
      "25\n",
      "patient_satisfaction_data\n",
      "['patient_data', 'patient_survey_data', 'patient_satisfaction_data', 'patient_satisfaction_survey_data', 'real_patient', 'medical_expert', 'medical_field', 'patient_management', 'patient_experience', 'patient_satisfaction', 'electronic_medical_record', 'student_population']\n",
      "=================================================================\n",
      "14\n",
      "research_question\n",
      "['research_paper', 'data_science', 'data_scientist', 'visualization_research_paper', 'research_problem', 'research_challenge', 'research_paper_collection', 'research_field', 'critical_research_challenge', 'challenging_research_problem', 'open_research_challenge', 'research_topic', 'research_community', 'research_interest', 'research_direction', 'research_question', 'research_prototype', 'empirical_research', 'additional_research', 'networking_research', 'multimedia_research', 'forensic_research', 'research_roadmap', 'active_research_field', 'open_research_issue', 'psychological_research', 'computer_vision_research', 'research_front_topic', 'empirical_study', 'pressing_research_question', 'multidisciplinary_research_strategy', 'usability_study', 'exploratory_study', 'bibliometric_study', 'ieee_study', '17_research_front_topic', 'synergistic_multidisciplinary_research_effort', 'social_science', 'relevant_researcher', 'natural_science', 'question', 'question_people', 'ethical_question', 'computer_science_lecture']\n",
      "=================================================================\n",
      "13\n",
      "human_robot\n",
      "['human_user', 'human_machine_interaction', 'human_performance', 'human_agent', 'human_end_user', 'human_machine_mutual_understanding', 'human_centred_data_mining', 'human_trust', 'human_expert', 'human_robot', 'human_behavior', 'human_centric_application', 'human_expert_performance', 'human_agent_interaction', 'human_factor', 'human_robot_knowledge_sharing_application', 'human_capability', 'human_society', 'human_robot_interaction', 'human_supervision', 'human_interpretable_feedback', 'actual_human', 'human_augmentation', 'human_race', 'human_adjudication', 'human_ingenuity', 'human_robot_team_task', 'human_understandable_term', 'human_robot_team', 'human_robot_collaboration', 'human_readable_rule', 'human_robot_trust_calibration', 'human_cognitive_power', 'human_understandable_manner', 'checking_human_agent_collective', 'intelligent_agent', 'human_readable_logic', 'human_friendly_justification', 'human_centered_functional_requirement', 'human_friendly_format', 'robot_action', 'limited_human_working_memory', 'rich_human_behavioral_evidence', 'robot_specific_representation', 'robot_behaviour', 'robot_belief', 'nao_robot', 'rescue_robot', 'robot_vary', 'robotic_behavior', 'robot_active_perception']\n",
      "=================================================================\n",
      "1\n",
      "statistical_analysis\n",
      "['empirical_data', 'segmentation_analysis_result', 'text_analysis', 'text_analysis_task', 'case_study', 'analysis_challenging', 'statistical_analysis', 'segmentation_analysis', 'binary_analysis', 'speech_analysis', 'empirical_analysis', 'quantitative_analysis', 'qualitative_analysis', 'movement_analysis', 'comprehensive_analysis', 'manual_analysis', 'outlier_analysis', 'detailed_analysis', 'helping_data_analysis_novice_conduct_pairwise_comparison', 'evaluation_study', 'postmortem_analysis', 'personality_analysis', 'impression_analysis', 'handwriting_analysis', 'analysis_plan', 'psychological_analysis', 'comparative_analysis', 'postmortem_analysis_tool', 'practical_impact_analysis', 'superior_risk_analysis', 'extensive_case_study', 'predictive_modelling_analysis', 'principal_component_analysis', 'facial_expression_analysis', 'advanced_statistical_analysis', 'interpretability_evaluation', 'action_review', 'cross_protocol_analysis', 'critical_review', 'expert_feedback', 'expert_panel', 'risk_assessment', 'evaluation_metric', 'empirical_evaluation', 'quantitative_evaluation', 'scoping_review', 'detailed_survey', 'qualitative_evaluation', 'questionnaire_survey', 'party_evaluation', 'subjective_evaluation', 'rigorous_evaluation', 'quantitative_threat_assessment', 'segmentation_pipeline']\n",
      "=================================================================\n",
      "65\n",
      "test_dataset\n",
      "['data_quality_test_approach', 'data_quality_test', 'test_data_set', 'interactive_data_quality_test_approach', 'automated_data_quality_test_approach', 'test_approach', 'software_testing_analysis', 'test_sample_classification', 'software_testing', 'test_case_generation', 'test_dataset', 'validation_set', 'testing_community_survey', 'full_test_set', 'experimental_evaluation', 'trust_calibration', 'test_sample', 'experimental_platform', 'qualitative_experiment', 'testing_gesture', 'cross_database_testing', 'comprehensive_experiment', 'preliminary_experiment', 'fault_injection_testing', 'initial_experiment', 'detailed_experiment', 'testing_today', 'extensive_experiment', 'test_verdict', 'ic_test']\n",
      "=================================================================\n",
      "50\n",
      "lbtest_requirement\n",
      "['network_architecture', 'user_requirement', 'requirement_classification', 'proposed_cps', 'requirement_engineering_process', 'potential_requirement', 'level_requirement', 'transparency_requirement', 'key_requirement', 'large_requirement', 'functional_requirement', 'safety_requirement', 'essential_requirement', 'leverage_requirement', 'evolving_rule', 'standardized_rule', 'huge_traffic_requirement', 'functional_requirement_specification', 'formalized_rule', 'lbtest_requirement']\n",
      "=================================================================\n",
      "44\n",
      "neural_activation\n",
      "['neural_network_architecture', 'neural_activation', 'distributed_neural_activation', 'multi_layer_neural_activation', 'cognitive_agent', 'domain_independent_mechanism', 'effect_reasoning_mechanism', 'security_association_mechanism', 'explanatory_mechanism', 'effective_influence_function', 'autonomous_causally', 'cognitive_function', 'activation', 'molecular_mechanism', 'adequate_mechanism']\n",
      "=================================================================\n",
      "61\n",
      "alternative_design_solution\n",
      "['holistic_system_design', 'case_based_reasoning', 'traditional_policy_management_system', 'design_study', 'multi_agent_design', 'conceptual_analysis', 'label_problem', 'practical_problem', 'integration_problem', 'visualization_design', 'nlp_problem', 'planning_problem', 'design_methodology', 'traditional_software_quality_concept', 'xai_concept', 'design_improvement', 'white_box_solution', 'intelligent_incentive_design', 'concept_space', 'alternative_design_solution', 'feedforward_design_methodology', 'encoder_design', 'decoder_design', 'logical_design', 'dnn_id_architecture', 'equivalent_white_box_solution', 'incentive_design_mechanism', 'concept_region', 'interactive_lighting_design', 'previous_solution', 'visualization_scheme', 'fusion_solution', 'smart_monitoring_solution', 'convergence_concept', 'practical_scenario', 'game_designer', 'additional_concept', 'preferred_solution', 'optimization_strategy', 'formal_concept', 'aesthetic_goal', 'foundational_concept', 'functional_implementation']\n",
      "=================================================================\n",
      "12\n",
      "quality_assessment\n",
      "['topic_model_quality_improvement', 'high_quality_result', 'detection_quality', 'software_quality', 'high_quality', 'quality_visualization', 'visual_quality_comparison', 'high_quality_pattern', 'quality_concept', 'mechanism_quality', 'quality_improvement', 'sleep_quality', 'lifecycle_support_quality', 'quality_assessment', 'quality_monitoring', 'quality_metric', 'average_accuracy', 'high_quality_word_embeddings', 'quality_evaluation_assurance_level', 'quality_criterion', 'time_efficiency', 'quality_indicator', 'low_output_quality', 'prosocial_quality', 'abstract_quality_aspect', 'defense_accuracy_degradation', '98_50_accuracy', 'provenance_tree', 'objective_measure']\n",
      "=================================================================\n",
      "59\n",
      "high_level_feature\n",
      "['high_level_policy_model', 'high_dimensional_data', 'low_rank_neural_network', 'high_level_image_feature', 'high_level_feature', 'level_classifier', 'high_dimensional_feature_set', 'high_level_research_roadmap', 'high_level_visual_attribute', 'high_level_policy', 'high_level_requirement_people', 'high_correlation', 'high_return', 'high_likelihood', 'high_temperature', 'low_level_operation', 'high_dimensional_vector', 'operational_level', 'continuous_high_dimensional_space', 'granularity_level', 'high_mortality_rate', 'high_false_alarm_rate', 'high_bandwidth_cpu', 'distance_measure']\n",
      "=================================================================\n",
      "67\n",
      "cyber_security\n",
      "['cyber_physical_system', 'cyber_physical_intelligent_system', 'cyber_physical_system_security', 'numerous_cyber_physical_system', 'human_trafficking', 'cyber_security_application', 'cyber_human_evolution', 'cyber_threat_intelligence', 'cyber_security', 'security_log', 'security_threat', 'intelligent_cybersecurity', 'critical_infrastructure_security', 'cybersecurity_context', 'security_analyst', 'security_alert', 'cyber_physical_health_calculation', 'individual_security_alert', 'wlan_security', 'security_operation_center', 'cyber_threat', 'security_operation_centre', 'maritime_security', 'conventional_security_measure', 'security_breach', 'cyber_physical_fabric', 'online_privacy', 'cybersecurity_resource']\n",
      "=================================================================\n",
      "0\n",
      "real_world_datasets\n",
      "['real_world_data', 'real_world_decision_problem', 'real_world_application', 'credible_agent_based_simulation', 'real_life_application', 'real_world_problem', 'dynamic_real_world_application', 'artificial_life', 'real_world_task', 'real_world_speech_analysis', 'real_world', 'real_world_dataset', 'real_world_datasets', 'real_world_concept', 'real_world_sequence', 'real_world_practice', 'game_world', 'real_world_intervention', 'real_experimental_environment', 'real_world_phenomenon', 'real_world_kb', 'real_office_building', 'online_life', 'world_caf_activity']\n",
      "=================================================================\n",
      "32\n",
      "health_care_data\n",
      "['e_health_support_system', 'health_care_data', 'health_data_warehouse', 'data_driven_health_monitoring', 'process_health_assessment', 'policy_expert', 'health_intervention_evaluation', 'public_health', 'health_intervention', 'public_health_question', 'distinct_health_risk', 'public_health_intervention', 'health_care_question', 'health_management_organization', 'health_trajectory', 'efficient_healthcare']\n",
      "=================================================================\n",
      "43\n",
      "spatial_correlation\n",
      "['causal_graph_learning', 'underlying_vector_space_model', 'hybrid_dynamical_system', 'spatial_structured_prediction_problem', 'open_problem', 'face_geometric_map_generative_network', 'spatial_structured_prediction', 'dimensional_feature_vector_space', 'linear_discriminant_analysis', 'real_time_adaptive_wavelet_graph', 'robot_spatial_belief', 'effective_distributed_representation', 'spatial_impact', 'critical_function', 'input_perturbation', 'mathematical_object', 'vector_space', 'latent_representation', 'dimensional_space', 'spatial_distribution', 'spatial_belief', 'causal_graph', 'virtual_representation', 'similar_topological_attribute', 'spatial_structural_constraint', 'spatial_delay_distribution', 'spatial_correlation', 'heat_map_generation', 'global_projection_space', 'graph_kernel', 'geometric_property', 'variational_graph_autoencoder', 'objective_function', 'geometric_map', 'spatial_likelihood', 'spatial_occurrence', 'vectorial_representation', 'spatial_workspace', 'causal_plan_graph']\n",
      "=================================================================\n",
      "70\n",
      "multivariate_time_series_data\n",
      "['time_series_data', 'continuous_time_series_data', 'multivariate_time_series_data', 'neural_sequence', 'multivariate_time_series_explanation', 'time_series_classification', 'time_series_analysis', 'inference_time', 'complex_scenario', 'interval_type_2_fuzzy_logic', 'complex_event_recognition', 'complex_event', 'time_dimension', 'complex_relationship', 'complex_response', 'time_segment', 'target_sequence', 'continuous_space', 'efficient_sequence', 'variable', 'source_sequence', 'symbolic_sequence', 'subsequence_space', 'discrete_event_sequence', 'variable_length_sequence', 'relevant_variable_combination', 'variable_length_symbolic_word', 'intermediate_variable', 'continuous_operation', 'synthetic_variable', 'discrete_series']\n",
      "=================================================================\n",
      "5\n",
      "satellite_image\n",
      "['image_classification', 'image_analysis', 'medical_image_analysis', 'satellite_image_prediction', 'input_image', 'image_recognition', 'medical_image_domain', 'dermoscopy_image_analysis', 'image_class', 'image_processing', 'image_part', 'medical_image_analysis_scenario', 'article_image', 'satellite_image', 'multichannel_satellite_image_prediction', 'real_satellite_image', 'pixel_image', 'important_image_location', 'time_frequency_image', 'query_image', 'input_satellite_image', 'histopathological_image', 'fashion_image', 'dermoscopy_image', 'image_retrieval', 'medical_image_computing', 'real_satellite_image_distribution', 'discriminative_image_region', 'salient_image_region', 'discriminative_image_location', 'satellite_image_predictor', 'multichannel_satellite_image', 'single_hyperspectral_image', 'general_purpose_image_database', 'breast_mass_image', 'realistic_synthetic_image', 'cnn_representation', 'perturbed_original_image', 'vivo_gastral_image', 'input_pixel', 'input_hyperspectral_pixel', 'location_cnn_fixation']\n",
      "=================================================================\n",
      "8\n",
      "intuitive_understanding\n",
      "['understanding_financial_timeseries_model', 'understanding_application', 'understanding_classifier', 'understanding_user_expectation', 'thought_process', 'problem_solving', 'accurate_understanding', 'speech_understanding', 'clinical_understanding', 'intuitive_understanding', 'understanding_opioid', 'detailed_understanding', 'scientific_insight', 'understanding_student_frustration', 'context_aware_risk_assessment', 'valuable_insight', 'coalition_situation_understanding', 'holistic_insight']\n",
      "=================================================================\n",
      "36\n",
      "xai_method\n",
      "['potential_method', 'xai_method', 'feature_extraction_method', 'black_box_method', 'attack_method', 'art_method', 'practical_method', 'segmentation_method', 'standard_method', 'promising_method', 'technical_method', 'primary_method', 'vae_method', 'method_outperforms', 'ensemble_method', 'forecasting_method', 'generic_method', 'filter_method', 'white_box_method', 'superpixel_method', 'naive_method', 'recent_symbolic_method', 'method_outperforms_state', 'xai_technique', 'xai_chi_method', 'visualization_technique', 'development_technique', 'competitive_similar_method', 'meta_modeling_method', 'ml_technique', 'evaluation_technique', 'unsupervised_technique', 'keywords_extracting_method', 'supervised_technique', 'information_fusion_technique', 'automatic_technique', 'primary_technique', 'verification_technique', 'ci_technique', 'point_finding_technique', 'storytelling_technique', 'natural_language_generation_technique', 'optimisation_technique', 'evolutionary_computation_technique', 'multidimensional_projection_technique', 'invasive_skin_imaging_technique', 'effective_operation', 'effective_intervention_strategy', 'traditional_principle']\n",
      "=================================================================\n",
      "42\n",
      "user_item_interaction\n",
      "['user_study', 'user_understanding', 'real_user', 'user_trust', 'user_action', 'end_user', 'interest_user', 'explicit_user', 'user_preference', 'user_profiling', 'user_cognition', 'infringe_user', 'user_item_interaction', 'specific_user_group', 'user_refined_concept', 'underlying_user_item_relationship', 'facebook_push_user', 'user_authored_keywords', 'specific_input', 'account_interaction_design', 'user_steerable_speculative_execution', 'consumer_trust', 'specific_vulnerability', 'online_feedback', 'online_public_discussion', 'usability_issue']\n",
      "=================================================================\n",
      "47\n",
      "stage_workflow_process\n",
      "['classification_process', 'data_pre_processing_step', 'training_process', 'development_process', 'modeling_process', 'problem_space', 'testing_process', 'evaluation_process', 'document_review_process', 'industrial_process', 'manual_knowledge_modeling_process', 'inference_process', 'annotation_process', 'iterative_design_process', 'algorithmic_process', 'translation_process', 'moderation_process', 'labelling_process', 'inspection_process', 'diagnosis_finding_process', 'scheduling_process', 'mitigation_process', 'stage_workflow_process', 'ontology_reasoning_process', 'intermediate_reasoning_process', 'general_process_monitoring', 'key_processing_step', 'energy_saving_process', 'internal_process_act', 'complex_event_processing', 'processing', 'step', 'standardized_certification_process', 'online_processing', 'internal_processing_action', 'local_interpretation_step', 'cluster_step', 'pre_processing', 'tiered_incident_handling_process', 'iterative_xai_pipeline', 'synthesis_action', 'validation_step', 'interpretation_phase', 'ae_processing', 'procedural_content_generation', 'special_pre_processing']\n",
      "=================================================================\n",
      "71\n",
      "multi_sensor_collaborative_object_classification_task\n",
      "['multi_sensor_object_classification_system', 'argumentation_based_object_classification', 'interpretable_collaborative_object_classification', 'general_generic_object_detection_framework', 'multi_sensor_collaborative_object_classification_task', 'input_state', 'object_recognition', 'object_category_level', 'object_instance', 'object_group', 'single_agent_implementation', 'agent_phase_preference', 'semantic_object_part_detector', 'object_location', 'entity_resolution_classifier', 'individual_case_manager', 'object_category', 'target_class', 'improved_attribute_recognition', 'facial_component', 'linguistic_facial_component_recognition', 'specific_instance', 'dependency_type', 'unsupervised_description_generation', 'specific_setting', 'target_variable', 'group_individual', 'related_entity', 'multiple_component', 'named_entity_recognition', 'part_configuration', 'dominant_class', 'attribute_similarity', 'latent_part_configuration', 'spectral_component', 'single_instance', 'multiple_instance']\n",
      "=================================================================\n",
      "37\n",
      "future_research\n",
      "['current_paper', 'future_clinical_decision_making', 'future_research', 'future_end_user_study', 'current_research', 'future_study', 'future_research_direction', 'potential_research_direction', 'future_research_opportunity', 'future_research_agenda', 'present_major_research_trajectory', 'future_development', 'future_work_idea', 'future_behavior', 'current_sentiment_analysis', 'future_methodology', 'future_direction', 'promising_future', 'future_beckons', 'generation_student', 'future_proof_smart_city', 'current_version']\n",
      "=================================================================\n",
      "27\n",
      "domain_knowledge\n",
      "['domain_knowledge_critic_network', 'problem_domain', 'domain_knowledge', 'knowledge_domain', 'expert_knowledge', 'domain_specific_knowledge', 'domain_expert', 'domain_modeling', 'knowledge_representation', 'critical_domain', 'dnn_knowledge', 'domain_knowledge_transfer', 'knowledge_graph', 'medical_domain', 'large_knowledge_representation', 'cognitive_context_knowledge', 'speech_domain', 'contextual_knowledge', 'knowledge_base', 'financial_domain', 'uncertain_knowledge', 'knowledge_modelling', 'signal_processing_domain', 'meteorological_knowledge', 'knowledge_distillation', 'domain_specific_experience', 'multidisciplinary_domain', 'maritime_domain', 'underlying_knowledge_base', 'relational_knowledge_representation', 'global_knowledge_base', 'explicit_declarative_knowledge', 'rich_contextual_knowledge', 'workforce_allocation_domain', 'ground_truth_knowledge', 'specialized_provenance_tree', 'experience']\n",
      "=================================================================\n",
      "38\n",
      "emotion_recognition\n",
      "['human_emotion', 'emotion_aware_explainable_artificial_intelligence', 'fuzzy_emotion_recognition', 'emotion_understanding', 'emotion_recognition', 'emotion_word', 'emotion_expression', 'simulated_emotion', 'emotion_aware_dialogue', 'facial_expression']\n",
      "=================================================================\n",
      "26\n",
      "cancer_diagnosis\n",
      "['lung_cancer_cad_system', 'human_tissue', 'lung_cancer_computer_aided_diagnostic_system', 'early_detection', 'lung_cancer_prediction', 'meningitis_case', 'cancer_type', 'accurate_diagnosis', 'cancer_diagnosis', 'type_1_diabetes', 'early_diagnosis', 'breast_cancer_diagnosis', 'correct_diagnosis', 'diabetes_diagnosis', 'automatic_diagnosis', 'meningitis_diagnosis', 'breast_cancer', 'early_disease_identification', 'accurate_treatment', 'personalized_diagnosis', 'plant_diagnosis_database', 'cancer_specific_driver_gene', 'invasive_meningitis_diagnosis', 'breast_cancer_therapy', 'early_diagnostics']\n",
      "=================================================================\n",
      "52\n",
      "recent_advancement\n",
      "['recent_research', 'recent_ai_winter', 'recent_research_effort', 'recent_development', 'recent_scientific_work', 'recent_recognition', 'recent_increase', 'recent_advancement', 'recent_discussion', 'recent_progress', 'recent_rapid_advancement', 'significant_improvement', 'rapid_development', 'early_stage', 'early_stage_company', 'early_phase']\n",
      "=================================================================\n",
      "73\n",
      "effective_tool\n",
      "['robust_network_interpretation_tool', 'effective_tool', 'management_tool', 'generation_annotation_tool', 'reverse_engineering_tool', 'powerful_tool', 'aar_tool', 'open_source_tool', 'tool_investor', 'hole_tool', 'tool_chain', 'viable_tool', 'fault_tolerance_tool', 'modern_introspection_tool', 'hole_drilling_tool', 'effective_presentation']\n",
      "=================================================================\n",
      "64\n",
      "important_key\n",
      "['important_problem', 'specific_problem', 'fundamental_problem', 'important_key', 'key_methodology', 'key_step', 'key_issue', 'important_region', 'key_concept', 'important_aspect', 'important_constraint', 'key_aspect', 'important_belief', 'key_measure', 'significant_engineering_importance', 'important_son', 'main_aspect', 'main_attribute', 'landmark_point', 'relevant_role', 'practical_point', 'key_principle', 'facial_landmark_point', 'relevant_aspect', 'main_advantage', 'key_pillar', 'key_tag_extraction', 'key_impediment', 'fundamental_issue', 'basic_concept', 'actual_landmark_point', 'crucial_component', 'pressing_issue', 'emerging_aspect', 'basic_direction', 'great_importance', 'major_concern', 'main_acm', 'philosophical_issue', 'salient_region', 'ethical_concern']\n",
      "=================================================================\n",
      "41\n",
      "blockchain_technology\n",
      "['image_analytics_technology', 'future_technology', 'potential_technology', 'iot_technology', 'game_technology', 'technology_management', 'industry_expert', 'technology_assisted_review', 'blockchain_technology', 'production_technology', 'communication_technology', 'current_wlan_technology', 'advanced_technology', 'specialized_technology', 'ledger_technology', 'disruptive_technology', 'chatbot_technology', 'biometric_technology', 'quantum_technology', 'hand_shape_recognition_technology', 'entertainment_technology', 'major_technology_trend', 'distributed_ledger_technology', 'local_technology_breakthrough', 'medium_industry', 'e_commerce_fashion_industry', 'legal_industry_workflow', 'significant_industry_traction', 'modern_critical_infrastructure', 'industrial_practitioner', 'industry_panel', 'oil_gas_field', 'extensive_industry_experience']\n",
      "=================================================================\n",
      "60\n",
      "key_challenge\n",
      "['challenge_design', 'potential_challenge', 'key_challenge', 'current_challenge', 'main_challenge', 'key_open_challenge', 'essential_challenge', 'technical_challenge', 'exciting_challenge', 'adaptivity_challenge', 'challenging_cold_start_problem']\n",
      "=================================================================\n",
      "62\n",
      "sleep_pattern\n",
      "['wearable_sleep_position_tracking_system', 'code_pattern', 'sleep_pattern', 'sleep_stage', 'activation_pattern', 'threat_pattern', 'sleep_position', 'sleep_motion']\n",
      "=================================================================\n",
      "24\n",
      "social_medium_behavior\n",
      "['social_medium_based_substance', 'black_box_nature', 'social_behavior', 'agent_behaviour', 'current_context', 'complex_environment', 'social_medium_behavior', 'spatial_behavior', 'input_output_behavior', 'policy_gradient_agent', 'social_medium', 'social_property', 'iot_environment', 'local_behavior', 'state_space_explosion', 'similar_nature', 'complex_natural_phenomenon', 'social_phenomenon', 'safety_critical_environment', 'dynamic_state_transition', 'operational_context', 'impact_people', 'emergent_behavior', 'personalized_behavior', 'energy_efficient_behavior', 'social_coordination', 'dynamic_environment', 'power_environment', 'energy_usage_behavior', 'competitive_environment', 'operational_environment', 'context_adaptive_procedure', 'situation_aware_interaction_protocol', 'changing_nature', 'multiagent_simulation_environment', 'societal_impact', 'undesirable_region', 'ethical_behaviour']\n",
      "=================================================================\n",
      "10\n",
      "relevant_information\n",
      "['text_information', 'information_visualization', 'context_information', 'interactive_information_exploration_user_interface', 'relevant_information', 'uncertainty_information', 'topic_related_information', 'essential_information', 'information_source', 'quantitative_information', 'sufficient_information', 'face_geometric_information', 'interesting_information', 'occlusion_pattern_information', 'spatial_structural_information', 'significant_spatial_spectral_information', 'general_information_purpose', 'context_aware_information_fusion', 'geographic_information', 'relevant_conceptual_information', 'student_information_repository', 'explicit_spatial_structural_information', 'additional_semantical_information', 'relevant_example', 'ecg_morphological_information']\n",
      "=================================================================\n",
      "6\n",
      "semantic_interaction\n",
      "['visual_semantic_concept', 'semantic_linguistic_facial_feature', 'semantic_object', 'semantic_interaction', 'semantic_modeling', 'semantic_space', 'semantic_concept_space', 'long_term_interaction', 'learned_word_representation', 'natural_language_generation', 'cognitive_context', 'natural_language', 'long_term_vision', 'semantic_constraint', 'semantic_interaction_foraging', 'linguistic_term', 'symbolic_word_representation', 'interactive_semantic_exploration', 'semantic_relation', 'synthesis_interaction', 'interaction_schema', 'term_air5', 'collaborative_semantic_inference', 'ontology_semantic_similarity', 'ontology_reasoning', 'semantic_descriptor', 'semantic_consensus', 'generalization_ability', 'explicit_linguistic_word_vector', 'word_embeddings', 'semantic_regularity', 'joint_textual_rationale_generation', 'constraint_discovery', 'causal_relationship']\n",
      "=================================================================\n",
      "46\n",
      "potential_risk\n",
      "['potential_attack', 'potential_risk', 'potential_issue', 'significant_potential', 'potential_benefit', 'risk', 'potential_vulnerability', 'potential_threat_interpretation', 'potential_investment', 'potential_consequence', 'risk_factor', 'potential_disadvantage', 'transformative_potential', 'potential_discrimination', 'risk_score_function', 'potential_adverse_effect', 'significant_effect', 'abuse_risk', 'significant_morbidity']\n",
      "=================================================================\n",
      "58\n",
      "intelligent_community\n",
      "['intelligent_architecture', 'intelligent_community', 'industrial_testing_community', 'computer_vision_community', 'social_capital', 'smart_community', 'cloudy_smart_world', 'scientific_community', 'industrial_society', 'core_community', 'smart_society']\n",
      "=================================================================\n"
     ]
    }
   ],
   "source": [
    "for i in spclus.class2word:\n",
    "    print(i)\n",
    "    print(center_names[i])\n",
    "    print(spclus.class2word[i])\n",
    "    print('=================================================================')"
   ]
  },
  {
   "cell_type": "code",
   "execution_count": 56,
   "metadata": {},
   "outputs": [],
   "source": [
    "# import json\n",
    "# f = open('../../dataset/ieee_xai/output/clusters.json', 'w')\n",
    "# json.dump(clusters, f)"
   ]
  },
  {
   "cell_type": "markdown",
   "metadata": {},
   "source": [
    "# Addtional Experiment - Weakly Supervision in keyphrase selection"
   ]
  },
  {
   "cell_type": "code",
   "execution_count": null,
   "metadata": {},
   "outputs": [],
   "source": [
    "with open('../dataset/explainability_words','r', encoding = 'utf-8') as f:\n",
    "    explain = [i.strip().lower() for i in f.readlines()]"
   ]
  },
  {
   "cell_type": "code",
   "execution_count": 57,
   "metadata": {},
   "outputs": [
    {
     "name": "stderr",
     "output_type": "stream",
     "text": [
      "100%|█████████████████████████████████████████████████████████████████████████████| 2531/2531 [00:05<00:00, 431.37it/s]"
     ]
    },
    {
     "name": "stdout",
     "output_type": "stream",
     "text": [
      "Wall time: 5.93 s\n"
     ]
    },
    {
     "name": "stderr",
     "output_type": "stream",
     "text": [
      "\n"
     ]
    }
   ],
   "source": [
    "%%time\n",
    "kp_embed = {w: embed_phrase(embeddings_index, w) for w in filtered_kpdata}\n",
    "xai_sim,_ = domain_relevance_table(kp_embed, explain, embed_method = 'conceptnet', N=int(0.5*len(domain_list)))"
   ]
  },
  {
   "cell_type": "code",
   "execution_count": 58,
   "metadata": {},
   "outputs": [],
   "source": [
    "xaiterms = [i[0] for i in sorted(xai_sim.items(), key=lambda x:x[1], reverse=True)[:300]]\n",
    "xaidata = ClusData(xaiterms, embed_model=embeddings_index, embed_method='conceptnet')"
   ]
  },
  {
   "cell_type": "code",
   "execution_count": 59,
   "metadata": {},
   "outputs": [
    {
     "data": {
      "text/plain": [
       "10"
      ]
     },
     "execution_count": 59,
     "metadata": {},
     "output_type": "execute_result"
    }
   ],
   "source": [
    "xaiclus = Clusterer(xaidata, n_cluster=10, method = 'sp-kmeans')\n",
    "xaiclus.find_opt_k_sil(50)"
   ]
  },
  {
   "cell_type": "code",
   "execution_count": 116,
   "metadata": {},
   "outputs": [
    {
     "name": "stdout",
     "output_type": "stream",
     "text": [
      "Clustering concentration score: 173.73935719703755\n",
      "Clustering silhouette score: 0.1680192766678754\n",
      "Clustering davies bouldin score: 2.819245546294406\n",
      "Calinski Harabaz: 11.8532\n",
      "Wall time: 1.91 s\n"
     ]
    }
   ],
   "source": [
    "%%time\n",
    "xaiclus = Clusterer(xaidata, n_cluster=10, method = 'sp-kmeans')\n",
    "xaiclus.fit()\n",
    "from sklearn import metrics\n",
    "print(\"Calinski Harabaz: %0.4f\" % metrics.calinski_harabaz_score(xaidata.embed, xaiclus.membership))"
   ]
  },
  {
   "cell_type": "code",
   "execution_count": 117,
   "metadata": {},
   "outputs": [],
   "source": [
    "center_names = []\n",
    "clus_centers = xaiclus.center_ids\n",
    "for cluster_id, keyword_idx in clus_centers:\n",
    "    keyword = xaidata.id2kp[keyword_idx]\n",
    "    center_names.append(keyword)"
   ]
  },
  {
   "cell_type": "code",
   "execution_count": 118,
   "metadata": {},
   "outputs": [],
   "source": [
    "subclusters = {}\n",
    "for i in xaiclus.class2word:\n",
    "    subclusters[float(i)] = find_most_similar(center_names[i], xaidata, xaiclus, n='all')"
   ]
  },
  {
   "cell_type": "code",
   "execution_count": 120,
   "metadata": {},
   "outputs": [
    {
     "data": {
      "text/plain": [
       "{2.0: ['ontology_reasoning_process',\n",
       "  'ontology_reasoning',\n",
       "  'inference_process',\n",
       "  'intermediate_reasoning_process',\n",
       "  'causal_reasoning',\n",
       "  'symbolic_reasoning',\n",
       "  'decision_rationale',\n",
       "  'effect_reasoning_mechanism',\n",
       "  'argumentation_based_object_classification',\n",
       "  'logical_approach',\n",
       "  'conceptual_framework',\n",
       "  'description_logic_representation',\n",
       "  'logical_structure',\n",
       "  'analytical_programming_decision_model',\n",
       "  'logical_design',\n",
       "  'inference_task',\n",
       "  'conceptual_analysis',\n",
       "  'interpretation_algorithm',\n",
       "  'formal_methodology',\n",
       "  'argumentation_based_agent',\n",
       "  'unsupervised_deep_embedding',\n",
       "  'formal_concept',\n",
       "  'inference_time',\n",
       "  'decision_problem',\n",
       "  'human_readable_logic',\n",
       "  'joint_textual_rationale_generation',\n",
       "  'interpretation_phase',\n",
       "  'standard_network_interpretation_algorithm',\n",
       "  'comprehensible_genetic_programming_classification_rule',\n",
       "  'reference_framework',\n",
       "  'comprehensible_structure',\n",
       "  'robust_network_interpretation_tool',\n",
       "  'real_world_decision_problem',\n",
       "  'functional_requirement_specification',\n",
       "  'symbolic_word_representation',\n",
       "  'formalized_rule',\n",
       "  'variable_length_symbolic_word'],\n",
       " 8.0: ['aigenerated_explanation',\n",
       "  'succinct_explanation',\n",
       "  'interpretable_explanation',\n",
       "  'explicit_explanation',\n",
       "  'counterfactual_explanation',\n",
       "  'convincing_explanation',\n",
       "  'explanation_methodology',\n",
       "  'accurate_explanation',\n",
       "  'explanation_method',\n",
       "  'xai_method_explanation',\n",
       "  'partial_explanation',\n",
       "  'textual_explanation',\n",
       "  'explanation_mechanism',\n",
       "  'explanation_framework',\n",
       "  'prediction_explanation',\n",
       "  'explanation_effect',\n",
       "  'meaningful_explanation',\n",
       "  'action_explanation',\n",
       "  'complementary_explanation',\n",
       "  'semantic_explanation',\n",
       "  'salient_explanation',\n",
       "  'plan_explanation',\n",
       "  'visual_explanation',\n",
       "  'contrastive_explanation_question',\n",
       "  'explanation_process',\n",
       "  'reasonable_recommendation_explanation',\n",
       "  'explanation_algorithm',\n",
       "  'explanation_interface',\n",
       "  'approximate_explanation',\n",
       "  'movement_explanation',\n",
       "  'pleasing_explanation',\n",
       "  'balanced_explanation',\n",
       "  'human_understandable_explanation',\n",
       "  'explanation_content',\n",
       "  'explanation_style',\n",
       "  'good_explanation',\n",
       "  'diverse_explanation',\n",
       "  'embedded_explanation',\n",
       "  'human_explanation',\n",
       "  'explanation_capability',\n",
       "  'offline_dnn_explanation',\n",
       "  'multimodal_explanation',\n",
       "  'global_explanation',\n",
       "  'personalised_explanation',\n",
       "  'local_explanation',\n",
       "  'explanation_generation',\n",
       "  'curating_explanation',\n",
       "  'explanation_quality',\n",
       "  'entity_resolution_explanation',\n",
       "  'text_explanation_generation',\n",
       "  'balanced_english_explanation',\n",
       "  'instance_level_explanation',\n",
       "  'explanation_based_reward',\n",
       "  'local_explanation_method',\n",
       "  'agent_behaviour_explanation',\n",
       "  'location_recognition_explanation',\n",
       "  'explanation_extraction_method',\n",
       "  'agent_explanation_effect',\n",
       "  'learning_explanation_pattern',\n",
       "  'prediction_explanation_visualization',\n",
       "  'robot_action_explanation',\n",
       "  'effective_salient_explanation_method',\n",
       "  'explanatory_method',\n",
       "  'explanatory_case',\n",
       "  'end_user_explanation',\n",
       "  'explanation_generation_algorithm',\n",
       "  'wise_dependent_explanation',\n",
       "  'explanatory_mechanism',\n",
       "  'textual_justification',\n",
       "  'affective_intelligent_agent_explanation',\n",
       "  'explanatory_power',\n",
       "  'reason_action',\n",
       "  'explanatory_artificial_intelligence'],\n",
       " 0.0: ['explainable_reasoning',\n",
       "  'explainable_logical_expression_rule',\n",
       "  'semantic_explainability',\n",
       "  'explainable_predictive_coding',\n",
       "  'explainable_prediction',\n",
       "  'explainable_behavior',\n",
       "  'explainable_sentiment_analysis',\n",
       "  'explainable_recommendation',\n",
       "  'explainable_point',\n",
       "  'explainable_machine_learning',\n",
       "  'explainable_classifier',\n",
       "  'explainable_data',\n",
       "  'explainable_system',\n",
       "  'explainable_ai_method',\n",
       "  'explainability_demand',\n",
       "  'explainable_text_classification',\n",
       "  'explainable_predictive_deep_learning',\n",
       "  'explainable_instance_alignment',\n",
       "  'explainable_classifier_supporting_decision_making',\n",
       "  'explainable_reinforcement_learning',\n",
       "  'explainable_cooperative_machine_learning',\n",
       "  'distributional_memory_explainable_word_embeddings',\n",
       "  'explainable_pattern_recognition_system',\n",
       "  'explainable_convolutional_neural_network_architecture',\n",
       "  'understandable_component'],\n",
       " 9.0: ['empirical_analysis',\n",
       "  'empirical_evaluation',\n",
       "  'empirical_study',\n",
       "  'empirical_parameter',\n",
       "  'linear_discriminant_analysis',\n",
       "  'segmentation_analysis_result',\n",
       "  'probabilistic_methodology',\n",
       "  'loop_data_analysis_application',\n",
       "  'traditional_statistical_regression_modeling',\n",
       "  'bayesian_network',\n",
       "  'quantitative_result',\n",
       "  'multivariate_understandable_statistical_tree',\n",
       "  'latent_variable',\n",
       "  'multivariate_time_series_data',\n",
       "  'consistent_data_set',\n",
       "  'multivariate_time_series_explanation',\n",
       "  'causal_graph',\n",
       "  'underlying_probability_distribution',\n",
       "  'causal_graph_learning',\n",
       "  'variational_graph_autoencoder',\n",
       "  'probabilistic_learning_method',\n",
       "  'causal_plan_graph',\n",
       "  'valid_prediction_interval',\n",
       "  'relevant_variable_combination'],\n",
       " 3.0: ['explainable_lstm_model',\n",
       "  'explainable_model',\n",
       "  'explainability_model',\n",
       "  'explainable_kinematic_model',\n",
       "  'interpretable_model',\n",
       "  'explainable_generative_model',\n",
       "  'explainable_ai_model',\n",
       "  'explainable_intelligence_model',\n",
       "  'prior_explainable_model',\n",
       "  'understandable_model',\n",
       "  'good_model_explainability',\n",
       "  'explanation_model',\n",
       "  'model_interpretability',\n",
       "  'generating_explainable_ai_model',\n",
       "  'interpretable_generative_model',\n",
       "  'interpretable_learning_model',\n",
       "  'explainable_sentiment_analysis_model',\n",
       "  'linear_explanation_model',\n",
       "  'explainable_artificial_intelligence_model',\n",
       "  'multimodal_explanation_model',\n",
       "  'logic_model',\n",
       "  'model_discrepancy',\n",
       "  'explicit_model',\n",
       "  'inference_model',\n",
       "  'nonlinear_model',\n",
       "  'probabilistic_model',\n",
       "  'statistical_model',\n",
       "  'contextual_explanatory_model',\n",
       "  'model_reasoning_process',\n",
       "  'textual_justification_model',\n",
       "  'complex_model_prediction_result',\n",
       "  'classification_model_result',\n",
       "  'mathematical_model',\n",
       "  'baseline_classification_model',\n",
       "  'linear_mixed_model',\n",
       "  'explicit_model_manipulation_interaction',\n",
       "  'compositional_grammar_model'],\n",
       " 1.0: ['ontology_semantic_similarity',\n",
       "  'semantic_interaction',\n",
       "  'collaborative_semantic_inference',\n",
       "  'semantic_descriptor',\n",
       "  'semantic_object',\n",
       "  'semantic_regularity',\n",
       "  'semantic_consensus',\n",
       "  'semantic_constraint',\n",
       "  'semantic_modeling',\n",
       "  'semantic_relation',\n",
       "  'visual_semantic_concept',\n",
       "  'semantic_concept_space',\n",
       "  'semantic_interaction_foraging',\n",
       "  'attribute_similarity',\n",
       "  'application_semantics',\n",
       "  'interaction_schema',\n",
       "  'causal_relationship'],\n",
       " 6.0: ['fuzzy_inference',\n",
       "  'fuzzy_inference_decision',\n",
       "  'knowledge_fuzzy_inference',\n",
       "  'fuzzy_inference_mechanism',\n",
       "  'fuzzy_inference_system_decision',\n",
       "  'fuzzy_predicate',\n",
       "  'fuzzy_methodology',\n",
       "  'fuzzy_logic_community',\n",
       "  'fuzzy_relation',\n",
       "  'interpretable_fuzzy_decision_support_system',\n",
       "  'fuzzy_emotion_recognition_framework',\n",
       "  'interpretable_fuzzy_system',\n",
       "  'fuzzy_analytical_hierarchy_process',\n",
       "  'interpretable_hierarchical_fuzzy_system',\n",
       "  'type_2_fuzzy_logic_based_explainable_artificial_intelligence_system',\n",
       "  'type_2_fuzzy_logic_system'],\n",
       " 5.0: ['cognitive_context_knowledge',\n",
       "  'cognitive_context',\n",
       "  'contextual_knowledge',\n",
       "  'context_information',\n",
       "  'relational_knowledge_representation',\n",
       "  'explicit_declarative_knowledge',\n",
       "  'context_aware_risk_assessment',\n",
       "  'operational_context',\n",
       "  'relevant_conceptual_information',\n",
       "  'context_adaptive_procedure',\n",
       "  'understanding_classifier',\n",
       "  'current_context',\n",
       "  'detailed_understanding',\n",
       "  'scalable_conversational_emotion_recognition_algorithm',\n",
       "  'additional_semantical_information',\n",
       "  'accurate_understanding',\n",
       "  'conversational_data',\n",
       "  'explicit_linguistic_word_vector',\n",
       "  'underlying_user_item_relationship',\n",
       "  'explicit_user',\n",
       "  'validation_set'],\n",
       " 7.0: ['interpretable_classifier',\n",
       "  'interpretable_machine_learning',\n",
       "  'interpretable_machine_learnig_algorithm',\n",
       "  'interpretable_machine_learning_algorithm',\n",
       "  'interpretable_collaborative_object_classification',\n",
       "  'interpretable_method',\n",
       "  'interpretable_approximation',\n",
       "  'interpretable_frbs_framework',\n",
       "  'interpretable_representation',\n",
       "  'interpretable_object_detection',\n",
       "  'interpretability_evaluation',\n",
       "  'visual_interpretability',\n",
       "  'interpretable_label_hierarchy',\n",
       "  'practical_interpretability',\n",
       "  'customized_interpretable_conformal_regressors',\n",
       "  'network_interpretability',\n",
       "  'agnostic_interpretability',\n",
       "  'human_interpretable_feedback',\n",
       "  'lack_interpretability',\n",
       "  'effective_interpretability_improvement',\n",
       "  'textual_interpretation',\n",
       "  'autonomous_causally'],\n",
       " 4.0: ['spatial_structured_prediction_model',\n",
       "  'spatial_structured_prediction',\n",
       "  'spatial_structured_prediction_problem',\n",
       "  'spatial_structure_pattern',\n",
       "  'conformal_prediction_framework',\n",
       "  'implicit_spatial_structure',\n",
       "  'spatial_likelihood',\n",
       "  'spatial_correlation',\n",
       "  'underlying_vector_space_model',\n",
       "  'meta_modeling_method',\n",
       "  'explicit_spatial_structural_information',\n",
       "  'spatial_structural_constraint',\n",
       "  'spatial_belief',\n",
       "  'spatial_occurrence',\n",
       "  'entity_relation_prediction',\n",
       "  'efficient_linear_classification_approach',\n",
       "  'instance_alignment_framework',\n",
       "  'cartesian_genetic_programming_approach',\n",
       "  'limited_theoretical_framework',\n",
       "  'hierarchical_visual_case',\n",
       "  'application_specific_data_augmentation_algorithm',\n",
       "  'energy_game_theoretic_framework',\n",
       "  'similar_topological_attribute',\n",
       "  'mathematical_object',\n",
       "  'general_generic_object_detection_framework',\n",
       "  'linear_decision_boundary',\n",
       "  'discrete_event_sequence',\n",
       "  'underlying_classification_system']}"
      ]
     },
     "execution_count": 120,
     "metadata": {},
     "output_type": "execute_result"
    }
   ],
   "source": [
    "subclusters"
   ]
  },
  {
   "cell_type": "code",
   "execution_count": 78,
   "metadata": {},
   "outputs": [
    {
     "data": {
      "text/html": [
       "<div>\n",
       "<style scoped>\n",
       "    .dataframe tbody tr th:only-of-type {\n",
       "        vertical-align: middle;\n",
       "    }\n",
       "\n",
       "    .dataframe tbody tr th {\n",
       "        vertical-align: top;\n",
       "    }\n",
       "\n",
       "    .dataframe thead th {\n",
       "        text-align: right;\n",
       "    }\n",
       "</style>\n",
       "<table border=\"1\" class=\"dataframe\">\n",
       "  <thead>\n",
       "    <tr style=\"text-align: right;\">\n",
       "      <th></th>\n",
       "      <th>0</th>\n",
       "      <th>1</th>\n",
       "      <th>2</th>\n",
       "      <th>3</th>\n",
       "      <th>4</th>\n",
       "      <th>5</th>\n",
       "      <th>6</th>\n",
       "      <th>7</th>\n",
       "      <th>8</th>\n",
       "      <th>9</th>\n",
       "    </tr>\n",
       "  </thead>\n",
       "  <tbody>\n",
       "    <tr>\n",
       "      <th>0</th>\n",
       "      <td>explainable_logical_expression_rule</td>\n",
       "      <td>causal_relationship</td>\n",
       "      <td>causal_reasoning</td>\n",
       "      <td>linear_explanation_model</td>\n",
       "      <td>implicit_spatial_structure</td>\n",
       "      <td>explicit_declarative_knowledge</td>\n",
       "      <td>type_2_fuzzy_logic_based_explainable_artificia...</td>\n",
       "      <td>interpretable_frbs_framework</td>\n",
       "      <td>counterfactual_explanation</td>\n",
       "      <td>causal_graph</td>\n",
       "    </tr>\n",
       "    <tr>\n",
       "      <th>1</th>\n",
       "      <td>explainable_reasoning</td>\n",
       "      <td>collaborative_semantic_inference</td>\n",
       "      <td>description_logic_representation</td>\n",
       "      <td>contextual_explanatory_model</td>\n",
       "      <td>explicit_spatial_structural_information</td>\n",
       "      <td>explicit_linguistic_word_vector</td>\n",
       "      <td>fuzzy_inference_mechanism</td>\n",
       "      <td>interpretable_collaborative_object_classification</td>\n",
       "      <td>semantic_explanation</td>\n",
       "      <td>empirical_parameter</td>\n",
       "    </tr>\n",
       "    <tr>\n",
       "      <th>2</th>\n",
       "      <td>semantic_explainability</td>\n",
       "      <td>semantic_constraint</td>\n",
       "      <td>ontology_reasoning</td>\n",
       "      <td>textual_justification_model</td>\n",
       "      <td>limited_theoretical_framework</td>\n",
       "      <td>cognitive_context</td>\n",
       "      <td>fuzzy_inference</td>\n",
       "      <td>interpretable_approximation</td>\n",
       "      <td>contrastive_explanation_question</td>\n",
       "      <td>causal_graph_learning</td>\n",
       "    </tr>\n",
       "    <tr>\n",
       "      <th>3</th>\n",
       "      <td>explainable_instance_alignment</td>\n",
       "      <td>ontology_semantic_similarity</td>\n",
       "      <td>symbolic_reasoning</td>\n",
       "      <td>multimodal_explanation_model</td>\n",
       "      <td>spatial_correlation</td>\n",
       "      <td>context_adaptive_procedure</td>\n",
       "      <td>interpretable_hierarchical_fuzzy_system</td>\n",
       "      <td>interpretable_representation</td>\n",
       "      <td>explicit_explanation</td>\n",
       "      <td>causal_plan_graph</td>\n",
       "    </tr>\n",
       "    <tr>\n",
       "      <th>4</th>\n",
       "      <td>explainable_predictive_coding</td>\n",
       "      <td>semantic_interaction</td>\n",
       "      <td>argumentation_based_object_classification</td>\n",
       "      <td>explanation_model</td>\n",
       "      <td>spatial_structural_constraint</td>\n",
       "      <td>cognitive_context_knowledge</td>\n",
       "      <td>knowledge_fuzzy_inference</td>\n",
       "      <td>textual_interpretation</td>\n",
       "      <td>interpretable_explanation</td>\n",
       "      <td>multivariate_time_series_explanation</td>\n",
       "    </tr>\n",
       "    <tr>\n",
       "      <th>5</th>\n",
       "      <td>explainable_text_classification</td>\n",
       "      <td>interaction_schema</td>\n",
       "      <td>ontology_reasoning_process</td>\n",
       "      <td>logic_model</td>\n",
       "      <td>spatial_structured_prediction_problem</td>\n",
       "      <td>relevant_conceptual_information</td>\n",
       "      <td>fuzzy_inference_decision</td>\n",
       "      <td>interpretable_method</td>\n",
       "      <td>meaningful_explanation</td>\n",
       "      <td>latent_variable</td>\n",
       "    </tr>\n",
       "    <tr>\n",
       "      <th>6</th>\n",
       "      <td>distributional_memory_explainable_word_embeddings</td>\n",
       "      <td>semantic_regularity</td>\n",
       "      <td>logical_structure</td>\n",
       "      <td>explainable_sentiment_analysis_model</td>\n",
       "      <td>spatial_structured_prediction_model</td>\n",
       "      <td>relational_knowledge_representation</td>\n",
       "      <td>interpretable_fuzzy_system</td>\n",
       "      <td>lack_interpretability</td>\n",
       "      <td>textual_explanation</td>\n",
       "      <td>multivariate_understandable_statistical_tree</td>\n",
       "    </tr>\n",
       "    <tr>\n",
       "      <th>7</th>\n",
       "      <td>explainable_data</td>\n",
       "      <td>semantic_consensus</td>\n",
       "      <td>decision_problem</td>\n",
       "      <td>mathematical_model</td>\n",
       "      <td>mathematical_object</td>\n",
       "      <td>contextual_knowledge</td>\n",
       "      <td>interpretable_fuzzy_decision_support_system</td>\n",
       "      <td>interpretable_classifier</td>\n",
       "      <td>explanation_framework</td>\n",
       "      <td>consistent_data_set</td>\n",
       "    </tr>\n",
       "    <tr>\n",
       "      <th>8</th>\n",
       "      <td>explainable_convolutional_neural_network_archi...</td>\n",
       "      <td>visual_semantic_concept</td>\n",
       "      <td>effect_reasoning_mechanism</td>\n",
       "      <td>inference_model</td>\n",
       "      <td>entity_relation_prediction</td>\n",
       "      <td>scalable_conversational_emotion_recognition_al...</td>\n",
       "      <td>fuzzy_inference_system_decision</td>\n",
       "      <td>practical_interpretability</td>\n",
       "      <td>explanation_algorithm</td>\n",
       "      <td>empirical_analysis</td>\n",
       "    </tr>\n",
       "    <tr>\n",
       "      <th>9</th>\n",
       "      <td>explainable_classifier_supporting_decision_making</td>\n",
       "      <td>semantic_descriptor</td>\n",
       "      <td>joint_textual_rationale_generation</td>\n",
       "      <td>interpretable_generative_model</td>\n",
       "      <td>similar_topological_attribute</td>\n",
       "      <td>operational_context</td>\n",
       "      <td>type_2_fuzzy_logic_system</td>\n",
       "      <td>interpretable_object_detection</td>\n",
       "      <td>explanation_methodology</td>\n",
       "      <td>underlying_probability_distribution</td>\n",
       "    </tr>\n",
       "  </tbody>\n",
       "</table>\n",
       "</div>"
      ],
      "text/plain": [
       "                                                   0  \\\n",
       "0                explainable_logical_expression_rule   \n",
       "1                              explainable_reasoning   \n",
       "2                            semantic_explainability   \n",
       "3                     explainable_instance_alignment   \n",
       "4                      explainable_predictive_coding   \n",
       "5                    explainable_text_classification   \n",
       "6  distributional_memory_explainable_word_embeddings   \n",
       "7                                   explainable_data   \n",
       "8  explainable_convolutional_neural_network_archi...   \n",
       "9  explainable_classifier_supporting_decision_making   \n",
       "\n",
       "                                  1  \\\n",
       "0               causal_relationship   \n",
       "1  collaborative_semantic_inference   \n",
       "2               semantic_constraint   \n",
       "3      ontology_semantic_similarity   \n",
       "4              semantic_interaction   \n",
       "5                interaction_schema   \n",
       "6               semantic_regularity   \n",
       "7                semantic_consensus   \n",
       "8           visual_semantic_concept   \n",
       "9               semantic_descriptor   \n",
       "\n",
       "                                           2  \\\n",
       "0                           causal_reasoning   \n",
       "1           description_logic_representation   \n",
       "2                         ontology_reasoning   \n",
       "3                         symbolic_reasoning   \n",
       "4  argumentation_based_object_classification   \n",
       "5                 ontology_reasoning_process   \n",
       "6                          logical_structure   \n",
       "7                           decision_problem   \n",
       "8                 effect_reasoning_mechanism   \n",
       "9         joint_textual_rationale_generation   \n",
       "\n",
       "                                      3  \\\n",
       "0              linear_explanation_model   \n",
       "1          contextual_explanatory_model   \n",
       "2           textual_justification_model   \n",
       "3          multimodal_explanation_model   \n",
       "4                     explanation_model   \n",
       "5                           logic_model   \n",
       "6  explainable_sentiment_analysis_model   \n",
       "7                    mathematical_model   \n",
       "8                       inference_model   \n",
       "9        interpretable_generative_model   \n",
       "\n",
       "                                         4  \\\n",
       "0               implicit_spatial_structure   \n",
       "1  explicit_spatial_structural_information   \n",
       "2            limited_theoretical_framework   \n",
       "3                      spatial_correlation   \n",
       "4            spatial_structural_constraint   \n",
       "5    spatial_structured_prediction_problem   \n",
       "6      spatial_structured_prediction_model   \n",
       "7                      mathematical_object   \n",
       "8               entity_relation_prediction   \n",
       "9            similar_topological_attribute   \n",
       "\n",
       "                                                   5  \\\n",
       "0                     explicit_declarative_knowledge   \n",
       "1                    explicit_linguistic_word_vector   \n",
       "2                                  cognitive_context   \n",
       "3                         context_adaptive_procedure   \n",
       "4                        cognitive_context_knowledge   \n",
       "5                    relevant_conceptual_information   \n",
       "6                relational_knowledge_representation   \n",
       "7                               contextual_knowledge   \n",
       "8  scalable_conversational_emotion_recognition_al...   \n",
       "9                                operational_context   \n",
       "\n",
       "                                                   6  \\\n",
       "0  type_2_fuzzy_logic_based_explainable_artificia...   \n",
       "1                          fuzzy_inference_mechanism   \n",
       "2                                    fuzzy_inference   \n",
       "3            interpretable_hierarchical_fuzzy_system   \n",
       "4                          knowledge_fuzzy_inference   \n",
       "5                           fuzzy_inference_decision   \n",
       "6                         interpretable_fuzzy_system   \n",
       "7        interpretable_fuzzy_decision_support_system   \n",
       "8                    fuzzy_inference_system_decision   \n",
       "9                          type_2_fuzzy_logic_system   \n",
       "\n",
       "                                                   7  \\\n",
       "0                       interpretable_frbs_framework   \n",
       "1  interpretable_collaborative_object_classification   \n",
       "2                        interpretable_approximation   \n",
       "3                       interpretable_representation   \n",
       "4                             textual_interpretation   \n",
       "5                               interpretable_method   \n",
       "6                              lack_interpretability   \n",
       "7                           interpretable_classifier   \n",
       "8                         practical_interpretability   \n",
       "9                     interpretable_object_detection   \n",
       "\n",
       "                                  8  \\\n",
       "0        counterfactual_explanation   \n",
       "1              semantic_explanation   \n",
       "2  contrastive_explanation_question   \n",
       "3              explicit_explanation   \n",
       "4         interpretable_explanation   \n",
       "5            meaningful_explanation   \n",
       "6               textual_explanation   \n",
       "7             explanation_framework   \n",
       "8             explanation_algorithm   \n",
       "9           explanation_methodology   \n",
       "\n",
       "                                              9  \n",
       "0                                  causal_graph  \n",
       "1                           empirical_parameter  \n",
       "2                         causal_graph_learning  \n",
       "3                             causal_plan_graph  \n",
       "4          multivariate_time_series_explanation  \n",
       "5                               latent_variable  \n",
       "6  multivariate_understandable_statistical_tree  \n",
       "7                           consistent_data_set  \n",
       "8                            empirical_analysis  \n",
       "9           underlying_probability_distribution  "
      ]
     },
     "execution_count": 78,
     "metadata": {},
     "output_type": "execute_result"
    }
   ],
   "source": [
    "pd.DataFrame.from_dict(xaiclus.class2word, orient='index').sort_index().T[:10]"
   ]
  }
 ],
 "metadata": {
  "kernelspec": {
   "display_name": "Python 3",
   "language": "python",
   "name": "python3"
  },
  "language_info": {
   "codemirror_mode": {
    "name": "ipython",
    "version": 3
   },
   "file_extension": ".py",
   "mimetype": "text/x-python",
   "name": "python",
   "nbconvert_exporter": "python",
   "pygments_lexer": "ipython3",
   "version": "3.7.4"
  }
 },
 "nbformat": 4,
 "nbformat_minor": 4
}
